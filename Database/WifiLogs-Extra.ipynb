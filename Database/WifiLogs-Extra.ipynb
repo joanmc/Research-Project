{
 "cells": [
  {
   "cell_type": "code",
   "execution_count": 4,
   "metadata": {
    "collapsed": true
   },
   "outputs": [],
   "source": [
    "import pandas as pd\n",
    "import MySQLdb as db\n",
    "from datetime import datetime\n",
    "import os"
   ]
  },
  {
   "cell_type": "code",
   "execution_count": 2,
   "metadata": {
    "collapsed": false
   },
   "outputs": [
    {
     "name": "stderr",
     "output_type": "stream",
     "text": [
      "/Users/JoanMcCarthy/anaconda/envs/proj2/lib/python2.7/site-packages/ipykernel/__main__.py:40: SettingWithCopyWarning: \n",
      "A value is trying to be set on a copy of a slice from a DataFrame\n",
      "\n",
      "See the caveats in the documentation: http://pandas.pydata.org/pandas-docs/stable/indexing.html#indexing-view-versus-copy\n",
      "/Users/JoanMcCarthy/anaconda/envs/proj2/lib/python2.7/site-packages/ipykernel/__main__.py:41: SettingWithCopyWarning: \n",
      "A value is trying to be set on a copy of a slice from a DataFrame\n",
      "\n",
      "See the caveats in the documentation: http://pandas.pydata.org/pandas-docs/stable/indexing.html#indexing-view-versus-copy\n",
      "/Users/JoanMcCarthy/anaconda/envs/proj2/lib/python2.7/site-packages/ipykernel/__main__.py:43: SettingWithCopyWarning: \n",
      "A value is trying to be set on a copy of a slice from a DataFrame\n",
      "\n",
      "See the caveats in the documentation: http://pandas.pydata.org/pandas-docs/stable/indexing.html#indexing-view-versus-copy\n"
     ]
    }
   ],
   "source": [
    "# DATETIME format: YYYY-MM-DD HH:MI:SS.\n",
    "\n",
    "# table class \n",
    "class data():\n",
    "    def __init__(self, name):\n",
    "        # Connect to Database\n",
    "        self.con = db.connect(host=\"localhost\", user=\"root\", passwd='', db=name)\n",
    "        self.cursor = self.con.cursor()\n",
    "    \n",
    "    def createTable(self, tname):\n",
    "        # Create a table\n",
    "        sql = \"CREATE TABLE \" + tname + \" (DateTime datetime, Room VARCHAR(20), Associated int, Authenticated int, PRIMARY KEY(DateTime, Room))\"\n",
    "        self.cursor.execute(sql)\n",
    "        \n",
    "    def openFile(self, tname, fname):\n",
    "        # Find keyworrd 'key' in csv file and read into data frame from there\n",
    "        with open(fname) as f:\n",
    "            # f is the file name, starting on row 1\n",
    "            # Accounts for csvs where 'key' is in a different row\n",
    "            # num = counter\n",
    "            for num, line in enumerate(f,1):\n",
    "                if line.startswith('Key'):\n",
    "                    break\n",
    "        df = pd.read_csv(fname, skiprows=num-1)\n",
    "        return df\n",
    "    \n",
    "    def fixFile(self, df):\n",
    "        for i in range(0, len(df)):\n",
    "            # put time into sql format\n",
    "            df['Event Time'][i] = df['Event Time'][i].replace('GMT+00:00','')\n",
    "            df['Event Time'][i] = datetime.strptime(df['Event Time'][i], '%a %b %d %X %Y')\n",
    "            # Split column Key (contains campus, building and room) into separate parts so they can be added to separate columns of database table\n",
    "            df['Key'][i] = df['Key'][i].split(' > ')\n",
    "        return df\n",
    "        \n",
    "#     def addFile(self, tname, df):\n",
    "#         # put data from dataframe into table in database\n",
    "#         for i in range(0, len(df)):\n",
    "#             self.cursor.execute(\"INSERT INTO \" + tname + \"(Campus, Building, Room, DateTime, Associated, Authenticated) VALUES('%s', '%s', '%s', '%s', %d, %d)\" \n",
    "#                                 % (df['Key'][i][0], df['Key'][i][1], df['Key'][i][2], df['Event Time'][i], df['Associated Client Count'][i], \n",
    "#                                  df['Authenticated Client Count'][i]))\n",
    "#             self.con.commit()           \n",
    "#         return\n",
    "\n",
    "    def addFile(self, tname, df):\n",
    "        # put data from dataframe into table in database\n",
    "        for i in range(0, len(df)):\n",
    "            self.cursor.execute(\"INSERT INTO \" + tname + \"(Room, DateTime, Associated, Authenticated) VALUES('%s', '%s', %d, %d)\" \n",
    "                                % (df['Key'][i][2], df['Event Time'][i], df['Associated Client Count'][i], \n",
    "                                 df['Authenticated Client Count'][i]))\n",
    "            self.con.commit()           \n",
    "        return\n",
    "\n",
    "\n",
    "name = 'DatabaseMain'\n",
    "myData = data(name)\n",
    "tname = 'ExtraWiFiLogData'\n",
    "myData.createTable(tname)\n",
    "\n",
    "path = '/Users/JoanMcCarthy/Google Drive/Computer Science/Research Practicum/Data/CSI WifiLogsExtra'\n",
    "\n",
    "for fn in os.listdir(path):\n",
    "    if fn.lower().endswith('.csv'):\n",
    "        #print \"File Name: \" + fn\n",
    "        fname = os.path.join(path, fn)\n",
    "        df = myData.openFile(tname, fname)\n",
    "        df = myData.fixFile(df)\n",
    "        myData.addFile(tname, df)"
   ]
  },
  {
   "cell_type": "code",
   "execution_count": 5,
   "metadata": {
    "collapsed": false
   },
   "outputs": [],
   "source": [
    "# CREATE A TABLE WITH AVERAGE NUM OF WIFI CONNECTIONS BETWEEN QUARTER PAST AND QUARTER TO THE HOUR IN A ROOM\n",
    "\n",
    "# connect to database\n",
    "con = db.connect(host=\"localhost\", user=\"root\", passwd='', db='DatabaseMain')\n",
    "cursor = con.cursor()"
   ]
  },
  {
   "cell_type": "code",
   "execution_count": 3,
   "metadata": {
    "collapsed": false
   },
   "outputs": [
    {
     "name": "stderr",
     "output_type": "stream",
     "text": [
      "/Users/JoanMcCarthy/anaconda/envs/proj2/lib/python2.7/site-packages/ipykernel/__main__.py:10: Warning: Table 'ExtraAverageNumWifiConnections' already exists\n"
     ]
    }
   ],
   "source": [
    "\n",
    "\n",
    "# create table\n",
    "tname = 'ExtraAverageNumWifiConnections'\n",
    "sql = \"CREATE TABLE IF NOT EXISTS \" + tname + \" (DateTime datetime, Room VARCHAR(10), AvgNumWifiConn FLOAT, PRIMARY KEY (DateTime, Room))\"\n",
    "cursor.execute(sql)\n",
    "\n",
    "# Dates and Times to be queried\n",
    "Date = ['2015-11-03', '2015-11-04', '2015-11-05', '2015-11-06', '2015-11-09', '2015-11-10', '2015-11-11', '2015-11-12', '2015-11-13', '2015-11-16']\n",
    "Time = ['00', '01', '02', '03', '04', '05', '06', '07', '08', '09', '10', '11', '12', '13', '14', '15', '16', '17', '18', '19', '20', '21', '22', '23']\n",
    "\n",
    "d = \"2016-07-18\"\n",
    "\n",
    "for t in Time:\n",
    "    # set start date time and end datetime to query between\n",
    "    start = \"'\" + d + \" \" + t + \":15:00'\"\n",
    "    end = \"'\" + d + \" \" + t + \":45:00'\"\n",
    "    # set datetime to enter into database (start of the hour being queried)\n",
    "    datetime = d + \" \" + t + \":00:00\"\n",
    "    # Query B-004 between set datetime\n",
    "    sql1 = \"SELECT AVG(Associated) FROM ExtraWiFiLogData WHERE DateTime BETWEEN \" + start + \" AND \" + end + \" AND Room = 'B-004'\"\n",
    "    cursor.execute(sql1)\n",
    "    res1 = cursor.fetchall()\n",
    "    # insert result into table\n",
    "    cursor.execute(\"INSERT INTO \" + tname + \" (DateTime, Room, AvgNumWifiConn) VALUES ('%s', '%s', %f)\" % (datetime, 'B-004',res1[0][0] if res1[0][0] else 0))\n",
    "    con.commit() \n",
    "    # Query B-003 between set datetime \n",
    "    sql2 = \"SELECT AVG(Associated) FROM ExtraWiFiLogData WHERE DateTime BETWEEN \" + start + \" AND \" + end + \" AND Room = 'B-003'\"\n",
    "    cursor.execute(sql2)\n",
    "    res2 = cursor.fetchall()\n",
    "    # insert result into table\n",
    "    cursor.execute(\"INSERT INTO \" + tname + \" (DateTime, Room, AvgNumWifiConn) VALUES ('%s', '%s', %f)\" % (datetime, 'B-003', res2[0][0] if res2[0][0] else 0))\n",
    "    con.commit() \n",
    "    # Query B-002 between set datetime\n",
    "    sql3 = \"SELECT AVG(Associated) FROM ExtraWiFiLogData WHERE DateTime BETWEEN \" + start + \" AND \" + end + \" AND Room = 'B-002'\"\n",
    "    cursor.execute(sql3)\n",
    "    res3 = cursor.fetchall()\n",
    "    # insert result into table\n",
    "    cursor.execute(\"INSERT INTO \" + tname + \" (DateTime, Room, AvgNumWifiConn) VALUES ('%s', '%s', %f)\" % (datetime, 'B-002', res3[0][0] if res3[0][0] else 0))\n",
    "    con.commit() "
   ]
  },
  {
   "cell_type": "code",
   "execution_count": 5,
   "metadata": {
    "collapsed": false
   },
   "outputs": [],
   "source": [
    "sql = \"\"\"SELECT AvgNumWifiConn FROM ExtraAverageNumWifiConnections\"\"\"\n",
    "df = pd.read_sql_query(sql, con)"
   ]
  },
  {
   "cell_type": "code",
   "execution_count": 8,
   "metadata": {
    "collapsed": false
   },
   "outputs": [],
   "source": [
    "df.to_csv('ExtraDataAvgs.csv', index=False)"
   ]
  },
  {
   "cell_type": "code",
   "execution_count": 9,
   "metadata": {
    "collapsed": true
   },
   "outputs": [],
   "source": [
    "# Create table\n",
    "sql = \"\"\"SELECT W.DateTime, W.Room, R.Capacity, W.Associated\n",
    "            FROM DatabaseMain.ExtraWifiLogData W, DatabaseMain.Rooms R\n",
    "            WHERE W.Room = R.Room \"\"\"\n",
    "df = pd.read_sql_query(sql, con)"
   ]
  },
  {
   "cell_type": "code",
   "execution_count": 12,
   "metadata": {
    "collapsed": false
   },
   "outputs": [],
   "source": [
    "df.to_csv('ExtraData.csv', index=False)"
   ]
  }
 ],
 "metadata": {
  "kernelspec": {
   "display_name": "Python 2",
   "language": "python",
   "name": "python2"
  },
  "language_info": {
   "codemirror_mode": {
    "name": "ipython",
    "version": 2
   },
   "file_extension": ".py",
   "mimetype": "text/x-python",
   "name": "python",
   "nbconvert_exporter": "python",
   "pygments_lexer": "ipython2",
   "version": "2.7.11"
  },
  "widgets": {
   "state": {},
   "version": "1.1.2"
  }
 },
 "nbformat": 4,
 "nbformat_minor": 0
}
