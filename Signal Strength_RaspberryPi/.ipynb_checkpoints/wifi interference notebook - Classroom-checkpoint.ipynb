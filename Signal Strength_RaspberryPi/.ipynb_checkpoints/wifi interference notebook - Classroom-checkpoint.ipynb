{
 "cells": [
  {
   "cell_type": "markdown",
   "metadata": {},
   "source": [
    "# Notebook foroccupancy detection using WiFi interference (control data)\n",
    "\n",
    "### much of this code and method has been sourced from comp47350 Data Analytics. Stackoverflow was referenced for support."
   ]
  },
  {
   "cell_type": "code",
   "execution_count": 14,
   "metadata": {
    "collapsed": false
   },
   "outputs": [
    {
     "name": "stdout",
     "output_type": "stream",
     "text": [
      "(98, 13)\n"
     ]
    },
    {
     "data": {
      "text/html": [
       "<div>\n",
       "<table border=\"1\" class=\"dataframe\">\n",
       "  <thead>\n",
       "    <tr style=\"text-align: right;\">\n",
       "      <th></th>\n",
       "      <th>0</th>\n",
       "      <th>1</th>\n",
       "      <th>2</th>\n",
       "      <th>3</th>\n",
       "      <th>4</th>\n",
       "      <th>5</th>\n",
       "      <th>6</th>\n",
       "      <th>7</th>\n",
       "      <th>8</th>\n",
       "      <th>9</th>\n",
       "      <th>10</th>\n",
       "      <th>11</th>\n",
       "      <th>12</th>\n",
       "    </tr>\n",
       "  </thead>\n",
       "  <tbody>\n",
       "    <tr>\n",
       "      <th>0</th>\n",
       "      <td>WiFi</td>\n",
       "      <td>signal</td>\n",
       "      <td>stength</td>\n",
       "      <td>at</td>\n",
       "      <td>10-08-2016</td>\n",
       "      <td>11:45</td>\n",
       "      <td>Link</td>\n",
       "      <td>Quality=70/70</td>\n",
       "      <td>NaN</td>\n",
       "      <td>Signal</td>\n",
       "      <td>level=-39</td>\n",
       "      <td>dBm</td>\n",
       "      <td>GT:12</td>\n",
       "    </tr>\n",
       "    <tr>\n",
       "      <th>1</th>\n",
       "      <td>WiFi</td>\n",
       "      <td>signal</td>\n",
       "      <td>stength</td>\n",
       "      <td>at</td>\n",
       "      <td>10-08-2016</td>\n",
       "      <td>11:55</td>\n",
       "      <td>Link</td>\n",
       "      <td>Quality=62/70</td>\n",
       "      <td>NaN</td>\n",
       "      <td>Signal</td>\n",
       "      <td>level=-48</td>\n",
       "      <td>dBm</td>\n",
       "      <td>GT:08</td>\n",
       "    </tr>\n",
       "    <tr>\n",
       "      <th>2</th>\n",
       "      <td>WiFi</td>\n",
       "      <td>signal</td>\n",
       "      <td>stength</td>\n",
       "      <td>at</td>\n",
       "      <td>10-08-2016</td>\n",
       "      <td>12:00</td>\n",
       "      <td>Link</td>\n",
       "      <td>Quality=59/70</td>\n",
       "      <td>NaN</td>\n",
       "      <td>Signal</td>\n",
       "      <td>level=-51</td>\n",
       "      <td>dBm</td>\n",
       "      <td>GT:10</td>\n",
       "    </tr>\n",
       "    <tr>\n",
       "      <th>3</th>\n",
       "      <td>WiFi</td>\n",
       "      <td>signal</td>\n",
       "      <td>stength</td>\n",
       "      <td>at</td>\n",
       "      <td>10-08-2016</td>\n",
       "      <td>12:05</td>\n",
       "      <td>Link</td>\n",
       "      <td>Quality=58/70</td>\n",
       "      <td>NaN</td>\n",
       "      <td>Signal</td>\n",
       "      <td>level=-52</td>\n",
       "      <td>dBm</td>\n",
       "      <td>GT:10</td>\n",
       "    </tr>\n",
       "    <tr>\n",
       "      <th>4</th>\n",
       "      <td>WiFi</td>\n",
       "      <td>signal</td>\n",
       "      <td>stength</td>\n",
       "      <td>at</td>\n",
       "      <td>10-08-2016</td>\n",
       "      <td>12:10</td>\n",
       "      <td>Link</td>\n",
       "      <td>Quality=57/70</td>\n",
       "      <td>NaN</td>\n",
       "      <td>Signal</td>\n",
       "      <td>level=-53</td>\n",
       "      <td>dBm</td>\n",
       "      <td>GT:09</td>\n",
       "    </tr>\n",
       "  </tbody>\n",
       "</table>\n",
       "</div>"
      ],
      "text/plain": [
       "     0       1        2   3           4      5     6              7   8   \\\n",
       "0  WiFi  signal  stength  at  10-08-2016  11:45  Link  Quality=70/70 NaN   \n",
       "1  WiFi  signal  stength  at  10-08-2016  11:55  Link  Quality=62/70 NaN   \n",
       "2  WiFi  signal  stength  at  10-08-2016  12:00  Link  Quality=59/70 NaN   \n",
       "3  WiFi  signal  stength  at  10-08-2016  12:05  Link  Quality=58/70 NaN   \n",
       "4  WiFi  signal  stength  at  10-08-2016  12:10  Link  Quality=57/70 NaN   \n",
       "\n",
       "       9          10   11     12  \n",
       "0  Signal  level=-39  dBm  GT:12  \n",
       "1  Signal  level=-48  dBm  GT:08  \n",
       "2  Signal  level=-51  dBm  GT:10  \n",
       "3  Signal  level=-52  dBm  GT:10  \n",
       "4  Signal  level=-53  dBm  GT:09  "
      ]
     },
     "execution_count": 14,
     "metadata": {},
     "output_type": "execute_result"
    }
   ],
   "source": [
    "'''import packages'''\n",
    "\n",
    "import pandas as pd\n",
    "import numpy as np\n",
    "import matplotlib.pyplot as plt\n",
    "import scipy as sp\n",
    "import seaborn as sns\n",
    "import pylab as pl\n",
    "import statsmodels.formula.api as sm\n",
    "from patsy import dmatrices\n",
    "from sklearn.linear_model import LogisticRegression\n",
    "from sklearn.cross_validation import train_test_split\n",
    "from sklearn import metrics\n",
    "from sklearn.cross_validation import cross_val_score\n",
    "\n",
    "\n",
    "wifiData = pd.read_csv('WiFi_TOTAL.txt', sep=\" \", header=None)\n",
    "print(wifiData.shape)\n",
    "wifiData.head(5)"
   ]
  },
  {
   "cell_type": "markdown",
   "metadata": {},
   "source": [
    "### Data cleaning"
   ]
  },
  {
   "cell_type": "code",
   "execution_count": 15,
   "metadata": {
    "collapsed": false
   },
   "outputs": [
    {
     "data": {
      "text/html": [
       "<div>\n",
       "<table border=\"1\" class=\"dataframe\">\n",
       "  <thead>\n",
       "    <tr style=\"text-align: right;\">\n",
       "      <th></th>\n",
       "      <th>4</th>\n",
       "      <th>5</th>\n",
       "      <th>7</th>\n",
       "      <th>10</th>\n",
       "      <th>12</th>\n",
       "    </tr>\n",
       "  </thead>\n",
       "  <tbody>\n",
       "    <tr>\n",
       "      <th>0</th>\n",
       "      <td>10-08-2016</td>\n",
       "      <td>11:45</td>\n",
       "      <td>Quality=70/70</td>\n",
       "      <td>level=-39</td>\n",
       "      <td>GT:12</td>\n",
       "    </tr>\n",
       "    <tr>\n",
       "      <th>1</th>\n",
       "      <td>10-08-2016</td>\n",
       "      <td>11:55</td>\n",
       "      <td>Quality=62/70</td>\n",
       "      <td>level=-48</td>\n",
       "      <td>GT:08</td>\n",
       "    </tr>\n",
       "    <tr>\n",
       "      <th>2</th>\n",
       "      <td>10-08-2016</td>\n",
       "      <td>12:00</td>\n",
       "      <td>Quality=59/70</td>\n",
       "      <td>level=-51</td>\n",
       "      <td>GT:10</td>\n",
       "    </tr>\n",
       "    <tr>\n",
       "      <th>3</th>\n",
       "      <td>10-08-2016</td>\n",
       "      <td>12:05</td>\n",
       "      <td>Quality=58/70</td>\n",
       "      <td>level=-52</td>\n",
       "      <td>GT:10</td>\n",
       "    </tr>\n",
       "    <tr>\n",
       "      <th>4</th>\n",
       "      <td>10-08-2016</td>\n",
       "      <td>12:10</td>\n",
       "      <td>Quality=57/70</td>\n",
       "      <td>level=-53</td>\n",
       "      <td>GT:09</td>\n",
       "    </tr>\n",
       "  </tbody>\n",
       "</table>\n",
       "</div>"
      ],
      "text/plain": [
       "           4      5              7          10     12\n",
       "0  10-08-2016  11:45  Quality=70/70  level=-39  GT:12\n",
       "1  10-08-2016  11:55  Quality=62/70  level=-48  GT:08\n",
       "2  10-08-2016  12:00  Quality=59/70  level=-51  GT:10\n",
       "3  10-08-2016  12:05  Quality=58/70  level=-52  GT:10\n",
       "4  10-08-2016  12:10  Quality=57/70  level=-53  GT:09"
      ]
     },
     "execution_count": 15,
     "metadata": {},
     "output_type": "execute_result"
    }
   ],
   "source": [
    "''' drop unneccessary colmns from the dataframe '''\n",
    "\n",
    "wifiData.drop([0, 1, 2, 3, 6, 8, 9, 11],inplace=True,axis=1)\n",
    "wifiData.head(5)"
   ]
  },
  {
   "cell_type": "code",
   "execution_count": 16,
   "metadata": {
    "collapsed": false
   },
   "outputs": [
    {
     "data": {
      "text/html": [
       "<div>\n",
       "<table border=\"1\" class=\"dataframe\">\n",
       "  <thead>\n",
       "    <tr style=\"text-align: right;\">\n",
       "      <th></th>\n",
       "      <th>date</th>\n",
       "      <th>time</th>\n",
       "      <th>quality</th>\n",
       "      <th>level</th>\n",
       "      <th>GT</th>\n",
       "    </tr>\n",
       "  </thead>\n",
       "  <tbody>\n",
       "    <tr>\n",
       "      <th>0</th>\n",
       "      <td>10-08-2016</td>\n",
       "      <td>11:45</td>\n",
       "      <td>Quality=70/70</td>\n",
       "      <td>level=-39</td>\n",
       "      <td>GT:12</td>\n",
       "    </tr>\n",
       "    <tr>\n",
       "      <th>1</th>\n",
       "      <td>10-08-2016</td>\n",
       "      <td>11:55</td>\n",
       "      <td>Quality=62/70</td>\n",
       "      <td>level=-48</td>\n",
       "      <td>GT:08</td>\n",
       "    </tr>\n",
       "    <tr>\n",
       "      <th>2</th>\n",
       "      <td>10-08-2016</td>\n",
       "      <td>12:00</td>\n",
       "      <td>Quality=59/70</td>\n",
       "      <td>level=-51</td>\n",
       "      <td>GT:10</td>\n",
       "    </tr>\n",
       "    <tr>\n",
       "      <th>3</th>\n",
       "      <td>10-08-2016</td>\n",
       "      <td>12:05</td>\n",
       "      <td>Quality=58/70</td>\n",
       "      <td>level=-52</td>\n",
       "      <td>GT:10</td>\n",
       "    </tr>\n",
       "    <tr>\n",
       "      <th>4</th>\n",
       "      <td>10-08-2016</td>\n",
       "      <td>12:10</td>\n",
       "      <td>Quality=57/70</td>\n",
       "      <td>level=-53</td>\n",
       "      <td>GT:09</td>\n",
       "    </tr>\n",
       "  </tbody>\n",
       "</table>\n",
       "</div>"
      ],
      "text/plain": [
       "         date   time        quality      level     GT\n",
       "0  10-08-2016  11:45  Quality=70/70  level=-39  GT:12\n",
       "1  10-08-2016  11:55  Quality=62/70  level=-48  GT:08\n",
       "2  10-08-2016  12:00  Quality=59/70  level=-51  GT:10\n",
       "3  10-08-2016  12:05  Quality=58/70  level=-52  GT:10\n",
       "4  10-08-2016  12:10  Quality=57/70  level=-53  GT:09"
      ]
     },
     "execution_count": 16,
     "metadata": {},
     "output_type": "execute_result"
    }
   ],
   "source": [
    "''' rename column headers '''\n",
    "\n",
    "wifiData.rename(columns={4: 'date', 5: 'time', 7: 'quality', 10: 'level', 12: 'GT'}, inplace=True)\n",
    "wifiData.head(5)"
   ]
  },
  {
   "cell_type": "code",
   "execution_count": 17,
   "metadata": {
    "collapsed": false
   },
   "outputs": [
    {
     "data": {
      "text/html": [
       "<div>\n",
       "<table border=\"1\" class=\"dataframe\">\n",
       "  <thead>\n",
       "    <tr style=\"text-align: right;\">\n",
       "      <th></th>\n",
       "      <th>date</th>\n",
       "      <th>time</th>\n",
       "      <th>quality</th>\n",
       "      <th>level</th>\n",
       "      <th>GT</th>\n",
       "    </tr>\n",
       "  </thead>\n",
       "  <tbody>\n",
       "    <tr>\n",
       "      <th>0</th>\n",
       "      <td>10-08-2016</td>\n",
       "      <td>11:45</td>\n",
       "      <td>1.00</td>\n",
       "      <td>-39</td>\n",
       "      <td>12</td>\n",
       "    </tr>\n",
       "    <tr>\n",
       "      <th>1</th>\n",
       "      <td>10-08-2016</td>\n",
       "      <td>11:55</td>\n",
       "      <td>0.89</td>\n",
       "      <td>-48</td>\n",
       "      <td>8</td>\n",
       "    </tr>\n",
       "    <tr>\n",
       "      <th>2</th>\n",
       "      <td>10-08-2016</td>\n",
       "      <td>12:00</td>\n",
       "      <td>0.84</td>\n",
       "      <td>-51</td>\n",
       "      <td>10</td>\n",
       "    </tr>\n",
       "    <tr>\n",
       "      <th>3</th>\n",
       "      <td>10-08-2016</td>\n",
       "      <td>12:05</td>\n",
       "      <td>0.83</td>\n",
       "      <td>-52</td>\n",
       "      <td>10</td>\n",
       "    </tr>\n",
       "    <tr>\n",
       "      <th>4</th>\n",
       "      <td>10-08-2016</td>\n",
       "      <td>12:10</td>\n",
       "      <td>0.81</td>\n",
       "      <td>-53</td>\n",
       "      <td>9</td>\n",
       "    </tr>\n",
       "  </tbody>\n",
       "</table>\n",
       "</div>"
      ],
      "text/plain": [
       "         date   time quality  level  GT\n",
       "0  10-08-2016  11:45    1.00    -39  12\n",
       "1  10-08-2016  11:55    0.89    -48   8\n",
       "2  10-08-2016  12:00    0.84    -51  10\n",
       "3  10-08-2016  12:05    0.83    -52  10\n",
       "4  10-08-2016  12:10    0.81    -53   9"
      ]
     },
     "execution_count": 17,
     "metadata": {},
     "output_type": "execute_result"
    }
   ],
   "source": [
    "''' drop unneccessary text from cells '''\n",
    "\n",
    "import re\n",
    "\n",
    "\n",
    "def cleanLevel(x):\n",
    "    myString = str(x)\n",
    "    index = myString.index('=')\n",
    "    newString = myString[index+1:] # last four characters\n",
    "    #return int(newString)\n",
    "    return int(newString)\n",
    "\n",
    "def cleanQuality(x):\n",
    "    myString = str(x)\n",
    "    index = myString.index('/')\n",
    "    indexStart = myString.index('=')\n",
    "    total = myString[index+1:]\n",
    "    level = myString[indexStart+1:index] # last four characters\n",
    "    newString = int(level)/int(total) # return int(newString)\n",
    "    percent = format(newString, '.2f')\n",
    "    return percent\n",
    "\n",
    "def cleanGT(x):\n",
    "    myString = str(x)\n",
    "    index = myString.index(':')\n",
    "    newString = myString[index+1:]\n",
    "    newInt = int(newString)\n",
    "    return newInt\n",
    "\n",
    "\n",
    "wifiData['level'] = wifiData['level'].apply(cleanLevel)\n",
    "wifiData['quality'] = wifiData['quality'].apply(cleanQuality)\n",
    "wifiData['GT'] = wifiData['GT'].apply(cleanGT)\n",
    "\n",
    "wifiData.head(5)"
   ]
  },
  {
   "cell_type": "code",
   "execution_count": 18,
   "metadata": {
    "collapsed": false
   },
   "outputs": [
    {
     "name": "stdout",
     "output_type": "stream",
     "text": [
      "\n",
      "date         object\n",
      "time         object\n",
      "quality      object\n",
      "level         int64\n",
      "GT            int64\n",
      "GT_binary     int64\n",
      "dtype: object\n"
     ]
    }
   ],
   "source": [
    "''' reset groundtruth to binary (0=unoccupied, 1=occupied) '''\n",
    "\n",
    "def binaryGT(x):\n",
    "    if x > 0:\n",
    "        return 1\n",
    "    else:\n",
    "        return 0\n",
    "\n",
    "wifiData['GT_binary'] = wifiData['GT'].apply(binaryGT)\n",
    "#wifiData['GT_binary'] = wifiData['GT_binary'].astype('category')\n",
    "wifiData.head(5)\n",
    "print('')\n",
    "print(wifiData.dtypes)"
   ]
  },
  {
   "cell_type": "code",
   "execution_count": 19,
   "metadata": {
    "collapsed": false
   },
   "outputs": [
    {
     "data": {
      "text/html": [
       "<div>\n",
       "<table border=\"1\" class=\"dataframe\">\n",
       "  <thead>\n",
       "    <tr style=\"text-align: right;\">\n",
       "      <th></th>\n",
       "      <th>date</th>\n",
       "      <th>time</th>\n",
       "      <th>quality</th>\n",
       "      <th>level</th>\n",
       "      <th>GT</th>\n",
       "      <th>GT_binary</th>\n",
       "      <th>abslevel</th>\n",
       "    </tr>\n",
       "  </thead>\n",
       "  <tbody>\n",
       "    <tr>\n",
       "      <th>0</th>\n",
       "      <td>10-08-2016</td>\n",
       "      <td>11:45</td>\n",
       "      <td>1.00</td>\n",
       "      <td>-39</td>\n",
       "      <td>12</td>\n",
       "      <td>1</td>\n",
       "      <td>39</td>\n",
       "    </tr>\n",
       "    <tr>\n",
       "      <th>1</th>\n",
       "      <td>10-08-2016</td>\n",
       "      <td>11:55</td>\n",
       "      <td>0.89</td>\n",
       "      <td>-48</td>\n",
       "      <td>8</td>\n",
       "      <td>1</td>\n",
       "      <td>48</td>\n",
       "    </tr>\n",
       "    <tr>\n",
       "      <th>2</th>\n",
       "      <td>10-08-2016</td>\n",
       "      <td>12:00</td>\n",
       "      <td>0.84</td>\n",
       "      <td>-51</td>\n",
       "      <td>10</td>\n",
       "      <td>1</td>\n",
       "      <td>51</td>\n",
       "    </tr>\n",
       "    <tr>\n",
       "      <th>3</th>\n",
       "      <td>10-08-2016</td>\n",
       "      <td>12:05</td>\n",
       "      <td>0.83</td>\n",
       "      <td>-52</td>\n",
       "      <td>10</td>\n",
       "      <td>1</td>\n",
       "      <td>52</td>\n",
       "    </tr>\n",
       "    <tr>\n",
       "      <th>4</th>\n",
       "      <td>10-08-2016</td>\n",
       "      <td>12:10</td>\n",
       "      <td>0.81</td>\n",
       "      <td>-53</td>\n",
       "      <td>9</td>\n",
       "      <td>1</td>\n",
       "      <td>53</td>\n",
       "    </tr>\n",
       "  </tbody>\n",
       "</table>\n",
       "</div>"
      ],
      "text/plain": [
       "         date   time quality  level  GT  GT_binary  abslevel\n",
       "0  10-08-2016  11:45    1.00    -39  12          1        39\n",
       "1  10-08-2016  11:55    0.89    -48   8          1        48\n",
       "2  10-08-2016  12:00    0.84    -51  10          1        51\n",
       "3  10-08-2016  12:05    0.83    -52  10          1        52\n",
       "4  10-08-2016  12:10    0.81    -53   9          1        53"
      ]
     },
     "execution_count": 19,
     "metadata": {},
     "output_type": "execute_result"
    }
   ],
   "source": [
    "''' add a column describing the absolute value of the level feature '''\n",
    "\n",
    "def absoluteLevel(x):\n",
    "    absol = abs(x)\n",
    "    return absol\n",
    "\n",
    "\n",
    "wifiData['abslevel'] = wifiData['level'].apply(absoluteLevel)\n",
    "wifiData.head(5)"
   ]
  },
  {
   "cell_type": "code",
   "execution_count": 20,
   "metadata": {
    "collapsed": false
   },
   "outputs": [
    {
     "data": {
      "text/html": [
       "<div>\n",
       "<table border=\"1\" class=\"dataframe\">\n",
       "  <thead>\n",
       "    <tr style=\"text-align: right;\">\n",
       "      <th></th>\n",
       "      <th>date</th>\n",
       "      <th>time</th>\n",
       "      <th>quality</th>\n",
       "      <th>level</th>\n",
       "      <th>GT</th>\n",
       "      <th>GT_binary</th>\n",
       "      <th>abslevel</th>\n",
       "    </tr>\n",
       "  </thead>\n",
       "  <tbody>\n",
       "    <tr>\n",
       "      <th>0</th>\n",
       "      <td>10-08-2016</td>\n",
       "      <td>11:45</td>\n",
       "      <td>100</td>\n",
       "      <td>-39</td>\n",
       "      <td>12</td>\n",
       "      <td>1</td>\n",
       "      <td>39</td>\n",
       "    </tr>\n",
       "    <tr>\n",
       "      <th>1</th>\n",
       "      <td>10-08-2016</td>\n",
       "      <td>11:55</td>\n",
       "      <td>89</td>\n",
       "      <td>-48</td>\n",
       "      <td>8</td>\n",
       "      <td>1</td>\n",
       "      <td>48</td>\n",
       "    </tr>\n",
       "    <tr>\n",
       "      <th>2</th>\n",
       "      <td>10-08-2016</td>\n",
       "      <td>12:00</td>\n",
       "      <td>84</td>\n",
       "      <td>-51</td>\n",
       "      <td>10</td>\n",
       "      <td>1</td>\n",
       "      <td>51</td>\n",
       "    </tr>\n",
       "    <tr>\n",
       "      <th>3</th>\n",
       "      <td>10-08-2016</td>\n",
       "      <td>12:05</td>\n",
       "      <td>83</td>\n",
       "      <td>-52</td>\n",
       "      <td>10</td>\n",
       "      <td>1</td>\n",
       "      <td>52</td>\n",
       "    </tr>\n",
       "    <tr>\n",
       "      <th>4</th>\n",
       "      <td>10-08-2016</td>\n",
       "      <td>12:10</td>\n",
       "      <td>81</td>\n",
       "      <td>-53</td>\n",
       "      <td>9</td>\n",
       "      <td>1</td>\n",
       "      <td>53</td>\n",
       "    </tr>\n",
       "  </tbody>\n",
       "</table>\n",
       "</div>"
      ],
      "text/plain": [
       "         date   time  quality  level  GT  GT_binary  abslevel\n",
       "0  10-08-2016  11:45      100    -39  12          1        39\n",
       "1  10-08-2016  11:55       89    -48   8          1        48\n",
       "2  10-08-2016  12:00       84    -51  10          1        51\n",
       "3  10-08-2016  12:05       83    -52  10          1        52\n",
       "4  10-08-2016  12:10       81    -53   9          1        53"
      ]
     },
     "execution_count": 20,
     "metadata": {},
     "output_type": "execute_result"
    }
   ],
   "source": [
    "''' set quality to between 0-100 '''\n",
    "\n",
    "def multiplyQual(x):\n",
    "    return float(x) * 100\n",
    "\n",
    "wifiData['quality'] = wifiData['quality'].apply(multiplyQual)\n",
    "wifiData.head(5)"
   ]
  },
  {
   "cell_type": "markdown",
   "metadata": {},
   "source": [
    "## Data inspection"
   ]
  },
  {
   "cell_type": "code",
   "execution_count": 21,
   "metadata": {
    "collapsed": false
   },
   "outputs": [
    {
     "name": "stdout",
     "output_type": "stream",
     "text": [
      "(98, 7)\n",
      "\n"
     ]
    },
    {
     "data": {
      "text/html": [
       "<div>\n",
       "<table border=\"1\" class=\"dataframe\">\n",
       "  <thead>\n",
       "    <tr style=\"text-align: right;\">\n",
       "      <th></th>\n",
       "      <th>date</th>\n",
       "      <th>time</th>\n",
       "      <th>quality</th>\n",
       "      <th>level</th>\n",
       "      <th>GT</th>\n",
       "      <th>GT_binary</th>\n",
       "      <th>abslevel</th>\n",
       "    </tr>\n",
       "  </thead>\n",
       "  <tbody>\n",
       "    <tr>\n",
       "      <th>0</th>\n",
       "      <td>10-08-2016</td>\n",
       "      <td>11:45</td>\n",
       "      <td>100</td>\n",
       "      <td>-39</td>\n",
       "      <td>12</td>\n",
       "      <td>1</td>\n",
       "      <td>39</td>\n",
       "    </tr>\n",
       "    <tr>\n",
       "      <th>1</th>\n",
       "      <td>10-08-2016</td>\n",
       "      <td>11:55</td>\n",
       "      <td>89</td>\n",
       "      <td>-48</td>\n",
       "      <td>8</td>\n",
       "      <td>1</td>\n",
       "      <td>48</td>\n",
       "    </tr>\n",
       "    <tr>\n",
       "      <th>2</th>\n",
       "      <td>10-08-2016</td>\n",
       "      <td>12:00</td>\n",
       "      <td>84</td>\n",
       "      <td>-51</td>\n",
       "      <td>10</td>\n",
       "      <td>1</td>\n",
       "      <td>51</td>\n",
       "    </tr>\n",
       "    <tr>\n",
       "      <th>3</th>\n",
       "      <td>10-08-2016</td>\n",
       "      <td>12:05</td>\n",
       "      <td>83</td>\n",
       "      <td>-52</td>\n",
       "      <td>10</td>\n",
       "      <td>1</td>\n",
       "      <td>52</td>\n",
       "    </tr>\n",
       "    <tr>\n",
       "      <th>4</th>\n",
       "      <td>10-08-2016</td>\n",
       "      <td>12:10</td>\n",
       "      <td>81</td>\n",
       "      <td>-53</td>\n",
       "      <td>9</td>\n",
       "      <td>1</td>\n",
       "      <td>53</td>\n",
       "    </tr>\n",
       "    <tr>\n",
       "      <th>5</th>\n",
       "      <td>10-08-2016</td>\n",
       "      <td>12:15</td>\n",
       "      <td>84</td>\n",
       "      <td>-51</td>\n",
       "      <td>10</td>\n",
       "      <td>1</td>\n",
       "      <td>51</td>\n",
       "    </tr>\n",
       "    <tr>\n",
       "      <th>6</th>\n",
       "      <td>10-08-2016</td>\n",
       "      <td>12:20</td>\n",
       "      <td>87</td>\n",
       "      <td>-49</td>\n",
       "      <td>9</td>\n",
       "      <td>1</td>\n",
       "      <td>49</td>\n",
       "    </tr>\n",
       "  </tbody>\n",
       "</table>\n",
       "</div>"
      ],
      "text/plain": [
       "         date   time  quality  level  GT  GT_binary  abslevel\n",
       "0  10-08-2016  11:45      100    -39  12          1        39\n",
       "1  10-08-2016  11:55       89    -48   8          1        48\n",
       "2  10-08-2016  12:00       84    -51  10          1        51\n",
       "3  10-08-2016  12:05       83    -52  10          1        52\n",
       "4  10-08-2016  12:10       81    -53   9          1        53\n",
       "5  10-08-2016  12:15       84    -51  10          1        51\n",
       "6  10-08-2016  12:20       87    -49   9          1        49"
      ]
     },
     "execution_count": 21,
     "metadata": {},
     "output_type": "execute_result"
    }
   ],
   "source": [
    "''' print number of columns and rows in dataframe '''\n",
    "\n",
    "print(wifiData.shape)\n",
    "print('')\n",
    "wifiData.head(7)"
   ]
  },
  {
   "cell_type": "code",
   "execution_count": 22,
   "metadata": {
    "collapsed": false
   },
   "outputs": [
    {
     "data": {
      "text/html": [
       "<div>\n",
       "<table border=\"1\" class=\"dataframe\">\n",
       "  <thead>\n",
       "    <tr style=\"text-align: right;\">\n",
       "      <th></th>\n",
       "      <th>date</th>\n",
       "      <th>time</th>\n",
       "      <th>quality</th>\n",
       "      <th>level</th>\n",
       "      <th>GT</th>\n",
       "      <th>GT_binary</th>\n",
       "      <th>abslevel</th>\n",
       "    </tr>\n",
       "  </thead>\n",
       "  <tbody>\n",
       "    <tr>\n",
       "      <th>91</th>\n",
       "      <td>16-08-2016</td>\n",
       "      <td>00:55</td>\n",
       "      <td>86</td>\n",
       "      <td>-50</td>\n",
       "      <td>0</td>\n",
       "      <td>0</td>\n",
       "      <td>50</td>\n",
       "    </tr>\n",
       "    <tr>\n",
       "      <th>92</th>\n",
       "      <td>16-08-2016</td>\n",
       "      <td>01:00</td>\n",
       "      <td>84</td>\n",
       "      <td>-51</td>\n",
       "      <td>0</td>\n",
       "      <td>0</td>\n",
       "      <td>51</td>\n",
       "    </tr>\n",
       "    <tr>\n",
       "      <th>93</th>\n",
       "      <td>16-08-2016</td>\n",
       "      <td>01:05</td>\n",
       "      <td>86</td>\n",
       "      <td>-50</td>\n",
       "      <td>0</td>\n",
       "      <td>0</td>\n",
       "      <td>50</td>\n",
       "    </tr>\n",
       "    <tr>\n",
       "      <th>94</th>\n",
       "      <td>16-08-2016</td>\n",
       "      <td>01:10</td>\n",
       "      <td>84</td>\n",
       "      <td>-51</td>\n",
       "      <td>0</td>\n",
       "      <td>0</td>\n",
       "      <td>51</td>\n",
       "    </tr>\n",
       "    <tr>\n",
       "      <th>95</th>\n",
       "      <td>16-08-2016</td>\n",
       "      <td>01:15</td>\n",
       "      <td>84</td>\n",
       "      <td>-51</td>\n",
       "      <td>0</td>\n",
       "      <td>0</td>\n",
       "      <td>51</td>\n",
       "    </tr>\n",
       "    <tr>\n",
       "      <th>96</th>\n",
       "      <td>16-08-2016</td>\n",
       "      <td>01:20</td>\n",
       "      <td>86</td>\n",
       "      <td>-50</td>\n",
       "      <td>0</td>\n",
       "      <td>0</td>\n",
       "      <td>50</td>\n",
       "    </tr>\n",
       "    <tr>\n",
       "      <th>97</th>\n",
       "      <td>16-08-2016</td>\n",
       "      <td>01:25</td>\n",
       "      <td>84</td>\n",
       "      <td>-51</td>\n",
       "      <td>0</td>\n",
       "      <td>0</td>\n",
       "      <td>51</td>\n",
       "    </tr>\n",
       "  </tbody>\n",
       "</table>\n",
       "</div>"
      ],
      "text/plain": [
       "          date   time  quality  level  GT  GT_binary  abslevel\n",
       "91  16-08-2016  00:55       86    -50   0          0        50\n",
       "92  16-08-2016  01:00       84    -51   0          0        51\n",
       "93  16-08-2016  01:05       86    -50   0          0        50\n",
       "94  16-08-2016  01:10       84    -51   0          0        51\n",
       "95  16-08-2016  01:15       84    -51   0          0        51\n",
       "96  16-08-2016  01:20       86    -50   0          0        50\n",
       "97  16-08-2016  01:25       84    -51   0          0        51"
      ]
     },
     "execution_count": 22,
     "metadata": {},
     "output_type": "execute_result"
    }
   ],
   "source": [
    "wifiData.tail(7)"
   ]
  },
  {
   "cell_type": "code",
   "execution_count": 23,
   "metadata": {
    "collapsed": false
   },
   "outputs": [
    {
     "name": "stdout",
     "output_type": "stream",
     "text": [
      "date          object\n",
      "time          object\n",
      "quality      float64\n",
      "level          int64\n",
      "GT             int64\n",
      "GT_binary      int64\n",
      "abslevel       int64\n",
      "dtype: object\n"
     ]
    }
   ],
   "source": [
    "print(wifiData.dtypes)"
   ]
  },
  {
   "cell_type": "code",
   "execution_count": 24,
   "metadata": {
    "collapsed": false
   },
   "outputs": [
    {
     "data": {
      "text/html": [
       "<div>\n",
       "<table border=\"1\" class=\"dataframe\">\n",
       "  <thead>\n",
       "    <tr style=\"text-align: right;\">\n",
       "      <th></th>\n",
       "      <th>quality</th>\n",
       "      <th>level</th>\n",
       "      <th>GT</th>\n",
       "      <th>GT_binary</th>\n",
       "      <th>abslevel</th>\n",
       "    </tr>\n",
       "  </thead>\n",
       "  <tbody>\n",
       "    <tr>\n",
       "      <th>quality</th>\n",
       "      <td>1.000000</td>\n",
       "      <td>0.994797</td>\n",
       "      <td>0.201680</td>\n",
       "      <td>0.223135</td>\n",
       "      <td>-0.994797</td>\n",
       "    </tr>\n",
       "    <tr>\n",
       "      <th>level</th>\n",
       "      <td>0.994797</td>\n",
       "      <td>1.000000</td>\n",
       "      <td>0.215877</td>\n",
       "      <td>0.227085</td>\n",
       "      <td>-1.000000</td>\n",
       "    </tr>\n",
       "    <tr>\n",
       "      <th>GT</th>\n",
       "      <td>0.201680</td>\n",
       "      <td>0.215877</td>\n",
       "      <td>1.000000</td>\n",
       "      <td>0.964560</td>\n",
       "      <td>-0.215877</td>\n",
       "    </tr>\n",
       "    <tr>\n",
       "      <th>GT_binary</th>\n",
       "      <td>0.223135</td>\n",
       "      <td>0.227085</td>\n",
       "      <td>0.964560</td>\n",
       "      <td>1.000000</td>\n",
       "      <td>-0.227085</td>\n",
       "    </tr>\n",
       "    <tr>\n",
       "      <th>abslevel</th>\n",
       "      <td>-0.994797</td>\n",
       "      <td>-1.000000</td>\n",
       "      <td>-0.215877</td>\n",
       "      <td>-0.227085</td>\n",
       "      <td>1.000000</td>\n",
       "    </tr>\n",
       "  </tbody>\n",
       "</table>\n",
       "</div>"
      ],
      "text/plain": [
       "            quality     level        GT  GT_binary  abslevel\n",
       "quality    1.000000  0.994797  0.201680   0.223135 -0.994797\n",
       "level      0.994797  1.000000  0.215877   0.227085 -1.000000\n",
       "GT         0.201680  0.215877  1.000000   0.964560 -0.215877\n",
       "GT_binary  0.223135  0.227085  0.964560   1.000000 -0.227085\n",
       "abslevel  -0.994797 -1.000000 -0.215877  -0.227085  1.000000"
      ]
     },
     "execution_count": 24,
     "metadata": {},
     "output_type": "execute_result"
    }
   ],
   "source": [
    "''' print the colilations between the features '''\n",
    "\n",
    "corrilatedwifiData = wifiData.corr()\n",
    "corrilatedwifiData"
   ]
  },
  {
   "cell_type": "code",
   "execution_count": 25,
   "metadata": {
    "collapsed": false
   },
   "outputs": [
    {
     "data": {
      "text/plain": [
       "<matplotlib.axes._subplots.AxesSubplot at 0x1b69e2e7828>"
      ]
     },
     "execution_count": 25,
     "metadata": {},
     "output_type": "execute_result"
    },
    {
     "data": {
      "image/png": "[encoded data removed]",
      "text/plain": [
       "<matplotlib.figure.Figure at 0x1b69dbb00f0>"
      ]
     },
     "metadata": {},
     "output_type": "display_data"
    }
   ],
   "source": [
    "%matplotlib inline\n",
    "wifiData.plot(kind='scatter', x='abslevel', y='GT_binary', label=\"%.3f\" % wifiData[['abslevel', 'GT_binary']].corr().as_matrix()[0,1])"
   ]
  },
  {
   "cell_type": "markdown",
   "metadata": {},
   "source": [
    "## logarithmic model, this modeling process was chosen to remain consistant with the other models used in the project"
   ]
  },
  {
   "cell_type": "code",
   "execution_count": 26,
   "metadata": {
    "collapsed": false
   },
   "outputs": [
    {
     "name": "stdout",
     "output_type": "stream",
     "text": [
      "          date   time  quality  level  GT  GT_binary  abslevel\n",
      "71  15-08-2016  23:10       86    -50   0          0        50\n",
      "33  15-08-2016  20:00       86    -50   0          0        50\n",
      "22  10-08-2016  15:00       86    -50  10          1        50\n",
      "84  16-08-2016  00:20       87    -49   0          0        49\n",
      "41  15-08-2016  20:40       84    -51   0          0        51\n",
      "51  15-08-2016  21:30       86    -50   0          0        50\n",
      "49  15-08-2016  21:20       87    -49   0          0        49\n",
      "92  16-08-2016  01:00       84    -51   0          0        51\n",
      "80  16-08-2016  00:00       86    -50   0          0        50\n",
      "68  15-08-2016  22:55       84    -51   0          0        51\n",
      "74  15-08-2016  23:25       87    -49   0          0        49\n",
      "18  10-08-2016  14:00       89    -48   4          1        48\n",
      "57  15-08-2016  22:00       89    -48   0          0        48\n",
      "6   10-08-2016  12:20       87    -49   9          1        49\n",
      "45  15-08-2016  21:00       87    -49   0          0        49\n"
     ]
    }
   ],
   "source": [
    "''' shuffle the rows so training and test sets are random '''\n",
    "\n",
    "wifiData = wifiData.reindex(np.random.permutation(wifiData.index))\n",
    "print(wifiData.head(15))"
   ]
  },
  {
   "cell_type": "code",
   "execution_count": 27,
   "metadata": {
    "collapsed": false
   },
   "outputs": [
    {
     "name": "stdout",
     "output_type": "stream",
     "text": [
      "(98, 1)\n"
     ]
    },
    {
     "data": {
      "text/html": [
       "<div>\n",
       "<table border=\"1\" class=\"dataframe\">\n",
       "  <thead>\n",
       "    <tr style=\"text-align: right;\">\n",
       "      <th></th>\n",
       "      <th>Intercept</th>\n",
       "    </tr>\n",
       "  </thead>\n",
       "  <tbody>\n",
       "    <tr>\n",
       "      <th>0</th>\n",
       "      <td>1</td>\n",
       "    </tr>\n",
       "    <tr>\n",
       "      <th>1</th>\n",
       "      <td>1</td>\n",
       "    </tr>\n",
       "    <tr>\n",
       "      <th>2</th>\n",
       "      <td>1</td>\n",
       "    </tr>\n",
       "    <tr>\n",
       "      <th>3</th>\n",
       "      <td>1</td>\n",
       "    </tr>\n",
       "    <tr>\n",
       "      <th>4</th>\n",
       "      <td>1</td>\n",
       "    </tr>\n",
       "    <tr>\n",
       "      <th>5</th>\n",
       "      <td>1</td>\n",
       "    </tr>\n",
       "    <tr>\n",
       "      <th>6</th>\n",
       "      <td>1</td>\n",
       "    </tr>\n",
       "    <tr>\n",
       "      <th>7</th>\n",
       "      <td>1</td>\n",
       "    </tr>\n",
       "    <tr>\n",
       "      <th>8</th>\n",
       "      <td>1</td>\n",
       "    </tr>\n",
       "    <tr>\n",
       "      <th>9</th>\n",
       "      <td>1</td>\n",
       "    </tr>\n",
       "  </tbody>\n",
       "</table>\n",
       "</div>"
      ],
      "text/plain": [
       "   Intercept\n",
       "0          1\n",
       "1          1\n",
       "2          1\n",
       "3          1\n",
       "4          1\n",
       "5          1\n",
       "6          1\n",
       "7          1\n",
       "8          1\n",
       "9          1"
      ]
     },
     "execution_count": 27,
     "metadata": {},
     "output_type": "execute_result"
    }
   ],
   "source": [
    "'''Prepare an intercept term that adds a 1 to each example. Scikit-learn does not use an intercept by default.'''\n",
    "\n",
    "intercept = pd.DataFrame({'Intercept': np.ones(len(wifiData.index))})\n",
    "print(intercept.shape)\n",
    "intercept.head(10)"
   ]
  },
  {
   "cell_type": "code",
   "execution_count": 28,
   "metadata": {
    "collapsed": false
   },
   "outputs": [
    {
     "name": "stdout",
     "output_type": "stream",
     "text": [
      "Descriptive features:\n",
      "     Intercept  abslevel  quality\n",
      "0           1        39      100\n",
      "1           1        48       89\n",
      "2           1        51       84\n",
      "3           1        52       83\n",
      "4           1        53       81\n",
      "5           1        51       84\n",
      "6           1        49       87\n",
      "7           1        49       87\n",
      "8           1        54       80\n",
      "9           1        49       87\n",
      "10          1        50       86\n",
      "11          1        49       87\n",
      "12          1        48       89\n",
      "13          1        48       89\n",
      "14          1        50       86\n",
      "15          1        49       87\n",
      "16          1        47       90\n",
      "17          1        47       90\n",
      "18          1        48       89\n",
      "19          1        46       91\n",
      "20          1        47       90\n",
      "21          1        51       84\n",
      "22          1        50       86\n",
      "23          1        50       86\n",
      "24          1        53       81\n",
      "25          1        50       86\n",
      "26          1        48       89\n",
      "27          1        56       77\n",
      "28          1        54       80\n",
      "29          1        50       86\n",
      "..        ...       ...      ...\n",
      "68          1        51       84\n",
      "69          1        49       87\n",
      "70          1        49       87\n",
      "71          1        50       86\n",
      "72          1        50       86\n",
      "73          1        51       84\n",
      "74          1        49       87\n",
      "75          1        51       84\n",
      "76          1        50       86\n",
      "77          1        50       86\n",
      "78          1        49       87\n",
      "79          1        51       84\n",
      "80          1        50       86\n",
      "81          1        51       84\n",
      "82          1        49       87\n",
      "83          1        49       87\n",
      "84          1        49       87\n",
      "85          1        50       86\n",
      "86          1        49       87\n",
      "87          1        50       86\n",
      "88          1        51       84\n",
      "89          1        50       86\n",
      "90          1        51       84\n",
      "91          1        50       86\n",
      "92          1        51       84\n",
      "93          1        50       86\n",
      "94          1        51       84\n",
      "95          1        51       84\n",
      "96          1        50       86\n",
      "97          1        51       84\n",
      "\n",
      "[98 rows x 3 columns]\n",
      "\n",
      "Target feature:\n",
      " 71    0\n",
      "33    0\n",
      "22    1\n",
      "84    0\n",
      "41    0\n",
      "51    0\n",
      "49    0\n",
      "92    0\n",
      "80    0\n",
      "68    0\n",
      "74    0\n",
      "18    1\n",
      "57    0\n",
      "6     1\n",
      "45    0\n",
      "58    0\n",
      "38    0\n",
      "34    0\n",
      "25    1\n",
      "78    0\n",
      "1     1\n",
      "0     1\n",
      "21    1\n",
      "73    0\n",
      "26    1\n",
      "90    0\n",
      "61    0\n",
      "28    0\n",
      "3     1\n",
      "60    0\n",
      "     ..\n",
      "4     1\n",
      "89    0\n",
      "79    0\n",
      "88    0\n",
      "31    0\n",
      "48    0\n",
      "66    0\n",
      "20    1\n",
      "62    0\n",
      "75    0\n",
      "30    0\n",
      "42    0\n",
      "37    0\n",
      "14    1\n",
      "96    0\n",
      "40    0\n",
      "86    0\n",
      "95    0\n",
      "50    0\n",
      "2     1\n",
      "39    0\n",
      "91    0\n",
      "12    1\n",
      "97    0\n",
      "19    1\n",
      "16    1\n",
      "27    0\n",
      "83    0\n",
      "7     1\n",
      "81    0\n",
      "Name: GT_binary, dtype: int64\n"
     ]
    }
   ],
   "source": [
    "'''Prepare the descriptive features'''\n",
    "\n",
    "X = pd.concat([intercept, wifiData[['abslevel', 'quality']]], axis=1)\n",
    "y = wifiData.GT_binary\n",
    "print(\"Descriptive features:\\n\", X)\n",
    "print(\"\\nTarget feature:\\n\", y)"
   ]
  },
  {
   "cell_type": "code",
   "execution_count": 29,
   "metadata": {
    "collapsed": false
   },
   "outputs": [],
   "source": [
    "''' Train a model using logistic regression. '''\n",
    "\n",
    "#logreg = LogisticRegression().fit(X, y)\n",
    "logreg = LogisticRegression().fit(X[['Intercept', 'abslevel', 'quality']], y)"
   ]
  },
  {
   "cell_type": "code",
   "execution_count": 30,
   "metadata": {
    "collapsed": false
   },
   "outputs": [
    {
     "name": "stdout",
     "output_type": "stream",
     "text": [
      "Coeficients: \n",
      " [[ 0.00021614  0.04787111 -0.03917628]]\n"
     ]
    }
   ],
   "source": [
    "'''Examine the estimated logistic regression coefficients.'''\n",
    "\n",
    "#pd.DataFrame(zip(X[['Size']], np.transpose(logreg.coef_)))\n",
    "print(\"Coeficients: \\n\", logreg.coef_)"
   ]
  },
  {
   "cell_type": "code",
   "execution_count": 31,
   "metadata": {
    "collapsed": false,
    "scrolled": true
   },
   "outputs": [
    {
     "data": {
      "text/plain": [
       "array([[ 0.88597013,  0.11402987],\n",
       "       [ 0.76646261,  0.23353739],\n",
       "       [ 0.70034662,  0.29965338],\n",
       "       [ 0.68176644,  0.31823356],\n",
       "       [ 0.65377579,  0.34622421],\n",
       "       [ 0.70034662,  0.29965338],\n",
       "       [ 0.74311457,  0.25688543],\n",
       "       [ 0.74311457,  0.25688543],\n",
       "       [ 0.6338178 ,  0.3661822 ],\n",
       "       [ 0.74311457,  0.25688543],\n",
       "       [ 0.72614931,  0.27385069],\n",
       "       [ 0.74311457,  0.25688543],\n",
       "       [ 0.76646261,  0.23353739],\n",
       "       [ 0.76646261,  0.23353739],\n",
       "       [ 0.72614931,  0.27385069],\n",
       "       [ 0.74311457,  0.25688543],\n",
       "       [ 0.78168128,  0.21831872],\n",
       "       [ 0.78168128,  0.21831872],\n",
       "       [ 0.76646261,  0.23353739],\n",
       "       [ 0.79617196,  0.20382804],\n",
       "       [ 0.78168128,  0.21831872],\n",
       "       [ 0.70034662,  0.29965338],\n",
       "       [ 0.72614931,  0.27385069],\n",
       "       [ 0.72614931,  0.27385069],\n",
       "       [ 0.65377579,  0.34622421],\n",
       "       [ 0.72614931,  0.27385069],\n",
       "       [ 0.76646261,  0.23353739],\n",
       "       [ 0.58306284,  0.41693716],\n",
       "       [ 0.6338178 ,  0.3661822 ],\n",
       "       [ 0.72614931,  0.27385069],\n",
       "       [ 0.56176099,  0.43823901],\n",
       "       [ 0.61338967,  0.38661033],\n",
       "       [ 0.70034662,  0.29965338],\n",
       "       [ 0.72614931,  0.27385069],\n",
       "       [ 0.74311457,  0.25688543],\n",
       "       [ 0.72614931,  0.27385069],\n",
       "       [ 0.78168128,  0.21831872],\n",
       "       [ 0.68176644,  0.31823356],\n",
       "       [ 0.72614931,  0.27385069],\n",
       "       [ 0.72614931,  0.27385069],\n",
       "       [ 0.70034662,  0.29965338],\n",
       "       [ 0.70034662,  0.29965338],\n",
       "       [ 0.68176644,  0.31823356],\n",
       "       [ 0.72614931,  0.27385069],\n",
       "       [ 0.70034662,  0.29965338],\n",
       "       [ 0.74311457,  0.25688543],\n",
       "       [ 0.72614931,  0.27385069],\n",
       "       [ 0.70034662,  0.29965338],\n",
       "       [ 0.74311457,  0.25688543],\n",
       "       [ 0.74311457,  0.25688543],\n",
       "       [ 0.72614931,  0.27385069],\n",
       "       [ 0.72614931,  0.27385069],\n",
       "       [ 0.70034662,  0.29965338],\n",
       "       [ 0.72614931,  0.27385069],\n",
       "       [ 0.74311457,  0.25688543],\n",
       "       [ 0.74311457,  0.25688543],\n",
       "       [ 0.72614931,  0.27385069],\n",
       "       [ 0.76646261,  0.23353739],\n",
       "       [ 0.74311457,  0.25688543],\n",
       "       [ 0.74311457,  0.25688543],\n",
       "       [ 0.74311457,  0.25688543],\n",
       "       [ 0.74311457,  0.25688543],\n",
       "       [ 0.76646261,  0.23353739],\n",
       "       [ 0.76646261,  0.23353739],\n",
       "       [ 0.76646261,  0.23353739],\n",
       "       [ 0.74311457,  0.25688543],\n",
       "       [ 0.72614931,  0.27385069],\n",
       "       [ 0.74311457,  0.25688543],\n",
       "       [ 0.70034662,  0.29965338],\n",
       "       [ 0.74311457,  0.25688543],\n",
       "       [ 0.74311457,  0.25688543],\n",
       "       [ 0.72614931,  0.27385069],\n",
       "       [ 0.72614931,  0.27385069],\n",
       "       [ 0.70034662,  0.29965338],\n",
       "       [ 0.74311457,  0.25688543],\n",
       "       [ 0.70034662,  0.29965338],\n",
       "       [ 0.72614931,  0.27385069],\n",
       "       [ 0.72614931,  0.27385069],\n",
       "       [ 0.74311457,  0.25688543],\n",
       "       [ 0.70034662,  0.29965338],\n",
       "       [ 0.72614931,  0.27385069],\n",
       "       [ 0.70034662,  0.29965338],\n",
       "       [ 0.74311457,  0.25688543],\n",
       "       [ 0.74311457,  0.25688543],\n",
       "       [ 0.74311457,  0.25688543],\n",
       "       [ 0.72614931,  0.27385069],\n",
       "       [ 0.74311457,  0.25688543],\n",
       "       [ 0.72614931,  0.27385069],\n",
       "       [ 0.70034662,  0.29965338],\n",
       "       [ 0.72614931,  0.27385069],\n",
       "       [ 0.70034662,  0.29965338],\n",
       "       [ 0.72614931,  0.27385069],\n",
       "       [ 0.70034662,  0.29965338],\n",
       "       [ 0.72614931,  0.27385069],\n",
       "       [ 0.70034662,  0.29965338],\n",
       "       [ 0.70034662,  0.29965338],\n",
       "       [ 0.72614931,  0.27385069],\n",
       "       [ 0.70034662,  0.29965338]])"
      ]
     },
     "execution_count": 31,
     "metadata": {},
     "output_type": "execute_result"
    }
   ],
   "source": [
    "'''Predicted probabilities for each example. The output is a pair for each example, The first component is the probability of \n",
    "    the negative class (class 0). The second component is the probability of the positive class (class 1).'''\n",
    "\n",
    "#logreg.predict_proba(y)\n",
    "logreg.predict_proba(X[['Intercept', 'abslevel', 'quality']])"
   ]
  },
  {
   "cell_type": "code",
   "execution_count": 32,
   "metadata": {
    "collapsed": false
   },
   "outputs": [
    {
     "data": {
      "text/plain": [
       "0.72448979591836737"
      ]
     },
     "execution_count": 32,
     "metadata": {},
     "output_type": "execute_result"
    }
   ],
   "source": [
    "'''Check the accuracy on the training set. The accuracy is the ratio of correct predictions to total examples. Total accuracy \n",
    "    is then 0.72 or 72% accuracy.'''\n",
    "\n",
    "predictions = logreg.predict(X[['Intercept', 'abslevel', 'quality']])\n",
    "logreg.score(X[['Intercept', 'abslevel', 'quality']], y)"
   ]
  },
  {
   "cell_type": "code",
   "execution_count": 33,
   "metadata": {
    "collapsed": false
   },
   "outputs": [
    {
     "name": "stdout",
     "output_type": "stream",
     "text": [
      "Accuracy:  0.724489795918\n",
      "Confusion matrix: \n",
      " [[71  0]\n",
      " [27  0]]\n",
      "Classification report:\n",
      "               precision    recall  f1-score   support\n",
      "\n",
      "          0       0.72      1.00      0.84        71\n",
      "          1       0.00      0.00      0.00        27\n",
      "\n",
      "avg / total       0.52      0.72      0.61        98\n",
      "\n"
     ]
    },
    {
     "name": "stderr",
     "output_type": "stream",
     "text": [
      "C:\\Users\\barry\\Anaconda3\\lib\\site-packages\\sklearn\\metrics\\classification.py:1074: UndefinedMetricWarning: Precision and F-score are ill-defined and being set to 0.0 in labels with no predicted samples.\n",
      "  'precision', 'predicted', average, warn_for)\n"
     ]
    }
   ],
   "source": [
    "''' Some more evaluation metrics. '''\n",
    "\n",
    "print(\"Accuracy: \", metrics.accuracy_score(y, predictions))\n",
    "print(\"Confusion matrix: \\n\", metrics.confusion_matrix(y, predictions))\n",
    "print(\"Classification report:\\n \", metrics.classification_report(y, predictions))"
   ]
  },
  {
   "cell_type": "markdown",
   "metadata": {},
   "source": [
    "## Normalize features and retrain model"
   ]
  },
  {
   "cell_type": "code",
   "execution_count": 34,
   "metadata": {
    "collapsed": false
   },
   "outputs": [
    {
     "data": {
      "text/html": [
       "<div>\n",
       "<table border=\"1\" class=\"dataframe\">\n",
       "  <thead>\n",
       "    <tr style=\"text-align: right;\">\n",
       "      <th></th>\n",
       "      <th>date</th>\n",
       "      <th>time</th>\n",
       "      <th>quality</th>\n",
       "      <th>abslevel</th>\n",
       "      <th>GT_norm</th>\n",
       "      <th>GT</th>\n",
       "      <th>GT_binary</th>\n",
       "    </tr>\n",
       "  </thead>\n",
       "  <tbody>\n",
       "    <tr>\n",
       "      <th>71</th>\n",
       "      <td>15-08-2016</td>\n",
       "      <td>23:10</td>\n",
       "      <td>-0.166667</td>\n",
       "      <td>0.222222</td>\n",
       "      <td>-1.000000</td>\n",
       "      <td>0</td>\n",
       "      <td>0</td>\n",
       "    </tr>\n",
       "    <tr>\n",
       "      <th>33</th>\n",
       "      <td>15-08-2016</td>\n",
       "      <td>20:00</td>\n",
       "      <td>-0.166667</td>\n",
       "      <td>0.222222</td>\n",
       "      <td>-1.000000</td>\n",
       "      <td>0</td>\n",
       "      <td>0</td>\n",
       "    </tr>\n",
       "    <tr>\n",
       "      <th>22</th>\n",
       "      <td>10-08-2016</td>\n",
       "      <td>15:00</td>\n",
       "      <td>-0.166667</td>\n",
       "      <td>0.222222</td>\n",
       "      <td>0.666667</td>\n",
       "      <td>10</td>\n",
       "      <td>1</td>\n",
       "    </tr>\n",
       "    <tr>\n",
       "      <th>84</th>\n",
       "      <td>16-08-2016</td>\n",
       "      <td>00:20</td>\n",
       "      <td>-0.083333</td>\n",
       "      <td>0.111111</td>\n",
       "      <td>-1.000000</td>\n",
       "      <td>0</td>\n",
       "      <td>0</td>\n",
       "    </tr>\n",
       "    <tr>\n",
       "      <th>41</th>\n",
       "      <td>15-08-2016</td>\n",
       "      <td>20:40</td>\n",
       "      <td>-0.333333</td>\n",
       "      <td>0.333333</td>\n",
       "      <td>-1.000000</td>\n",
       "      <td>0</td>\n",
       "      <td>0</td>\n",
       "    </tr>\n",
       "  </tbody>\n",
       "</table>\n",
       "</div>"
      ],
      "text/plain": [
       "          date   time   quality  abslevel   GT_norm  GT  GT_binary\n",
       "71  15-08-2016  23:10 -0.166667  0.222222 -1.000000   0          0\n",
       "33  15-08-2016  20:00 -0.166667  0.222222 -1.000000   0          0\n",
       "22  10-08-2016  15:00 -0.166667  0.222222  0.666667  10          1\n",
       "84  16-08-2016  00:20 -0.083333  0.111111 -1.000000   0          0\n",
       "41  15-08-2016  20:40 -0.333333  0.333333 -1.000000   0          0"
      ]
     },
     "execution_count": 34,
     "metadata": {},
     "output_type": "execute_result"
    }
   ],
   "source": [
    "''' quality is a value between 1 and 100 but this value never drops below 75 (53/70) so all values between the min and the max \n",
    "    have been normalised to range between -1 and 1 '''\n",
    "\n",
    "wifiData['GT_norm'] = wifiData['GT']\n",
    "wifi_des_feat = wifiData[['quality', 'abslevel', 'GT_norm']]\n",
    "\n",
    "wifi_norm = (wifi_des_feat - wifi_des_feat.min()) / (wifi_des_feat.max() - wifi_des_feat.min())\n",
    "wifi_norm = wifi_norm * 2 - 1\n",
    "\n",
    "wifiData = pd.concat([wifiData.date, wifiData.time, wifi_norm, wifiData.GT, wifiData.GT_binary], axis=1)\n",
    "wifiData.head(5)"
   ]
  },
  {
   "cell_type": "code",
   "execution_count": 35,
   "metadata": {
    "collapsed": false
   },
   "outputs": [
    {
     "name": "stdout",
     "output_type": "stream",
     "text": [
      "Descriptive features:\n",
      "     Intercept   quality  abslevel\n",
      "0           1  1.000000 -1.000000\n",
      "1           1  0.083333  0.000000\n",
      "2           1 -0.333333  0.333333\n",
      "3           1 -0.416667  0.444444\n",
      "4           1 -0.583333  0.555556\n",
      "5           1 -0.333333  0.333333\n",
      "6           1 -0.083333  0.111111\n",
      "7           1 -0.083333  0.111111\n",
      "8           1 -0.666667  0.666667\n",
      "9           1 -0.083333  0.111111\n",
      "10          1 -0.166667  0.222222\n",
      "11          1 -0.083333  0.111111\n",
      "12          1  0.083333  0.000000\n",
      "13          1  0.083333  0.000000\n",
      "14          1 -0.166667  0.222222\n",
      "15          1 -0.083333  0.111111\n",
      "16          1  0.166667 -0.111111\n",
      "17          1  0.166667 -0.111111\n",
      "18          1  0.083333  0.000000\n",
      "19          1  0.250000 -0.222222\n",
      "20          1  0.166667 -0.111111\n",
      "21          1 -0.333333  0.333333\n",
      "22          1 -0.166667  0.222222\n",
      "23          1 -0.166667  0.222222\n",
      "24          1 -0.583333  0.555556\n",
      "25          1 -0.166667  0.222222\n",
      "26          1  0.083333  0.000000\n",
      "27          1 -0.916667  0.888889\n",
      "28          1 -0.666667  0.666667\n",
      "29          1 -0.166667  0.222222\n",
      "..        ...       ...       ...\n",
      "68          1 -0.333333  0.333333\n",
      "69          1 -0.083333  0.111111\n",
      "70          1 -0.083333  0.111111\n",
      "71          1 -0.166667  0.222222\n",
      "72          1 -0.166667  0.222222\n",
      "73          1 -0.333333  0.333333\n",
      "74          1 -0.083333  0.111111\n",
      "75          1 -0.333333  0.333333\n",
      "76          1 -0.166667  0.222222\n",
      "77          1 -0.166667  0.222222\n",
      "78          1 -0.083333  0.111111\n",
      "79          1 -0.333333  0.333333\n",
      "80          1 -0.166667  0.222222\n",
      "81          1 -0.333333  0.333333\n",
      "82          1 -0.083333  0.111111\n",
      "83          1 -0.083333  0.111111\n",
      "84          1 -0.083333  0.111111\n",
      "85          1 -0.166667  0.222222\n",
      "86          1 -0.083333  0.111111\n",
      "87          1 -0.166667  0.222222\n",
      "88          1 -0.333333  0.333333\n",
      "89          1 -0.166667  0.222222\n",
      "90          1 -0.333333  0.333333\n",
      "91          1 -0.166667  0.222222\n",
      "92          1 -0.333333  0.333333\n",
      "93          1 -0.166667  0.222222\n",
      "94          1 -0.333333  0.333333\n",
      "95          1 -0.333333  0.333333\n",
      "96          1 -0.166667  0.222222\n",
      "97          1 -0.333333  0.333333\n",
      "\n",
      "[98 rows x 3 columns]\n",
      "\n",
      "Target feature:\n",
      " 71    0\n",
      "33    0\n",
      "22    1\n",
      "84    0\n",
      "41    0\n",
      "51    0\n",
      "49    0\n",
      "92    0\n",
      "80    0\n",
      "68    0\n",
      "74    0\n",
      "18    1\n",
      "57    0\n",
      "6     1\n",
      "45    0\n",
      "58    0\n",
      "38    0\n",
      "34    0\n",
      "25    1\n",
      "78    0\n",
      "1     1\n",
      "0     1\n",
      "21    1\n",
      "73    0\n",
      "26    1\n",
      "90    0\n",
      "61    0\n",
      "28    0\n",
      "3     1\n",
      "60    0\n",
      "     ..\n",
      "4     1\n",
      "89    0\n",
      "79    0\n",
      "88    0\n",
      "31    0\n",
      "48    0\n",
      "66    0\n",
      "20    1\n",
      "62    0\n",
      "75    0\n",
      "30    0\n",
      "42    0\n",
      "37    0\n",
      "14    1\n",
      "96    0\n",
      "40    0\n",
      "86    0\n",
      "95    0\n",
      "50    0\n",
      "2     1\n",
      "39    0\n",
      "91    0\n",
      "12    1\n",
      "97    0\n",
      "19    1\n",
      "16    1\n",
      "27    0\n",
      "83    0\n",
      "7     1\n",
      "81    0\n",
      "Name: GT_binary, dtype: int64\n"
     ]
    }
   ],
   "source": [
    "''' Prepare the descriptive features '''\n",
    "\n",
    "X = pd.concat([intercept, wifiData[['quality', 'abslevel']]], axis=1)\n",
    "y = wifiData.GT_binary\n",
    "print(\"Descriptive features:\\n\", X)\n",
    "print(\"\\nTarget feature:\\n\", y)"
   ]
  },
  {
   "cell_type": "code",
   "execution_count": 36,
   "metadata": {
    "collapsed": false
   },
   "outputs": [],
   "source": [
    "''' Split the data into train and test sets. Take a third (random) data samples as test data, rest as training data '''\n",
    "\n",
    "X_train, X_test, y_train, y_test = train_test_split(X, y, test_size=0.3, random_state=0)\n",
    "\n",
    "#print(\"Training data:\\n\", pd.concat([X_train, y_train], axis=1))\n",
    "#print(\"\\nTest data:\\n\", pd.concat([X_test, y_test], axis=1))"
   ]
  },
  {
   "cell_type": "code",
   "execution_count": 37,
   "metadata": {
    "collapsed": false
   },
   "outputs": [
    {
     "name": "stdout",
     "output_type": "stream",
     "text": [
      "[[-0.52106396 -0.18053387  0.14937206]]\n"
     ]
    }
   ],
   "source": [
    "''' Train on the training sample and test on the test sample. '''\n",
    "\n",
    "logreg_train = LogisticRegression().fit(X_train, y_train)\n",
    "print(logreg_train.coef_)"
   ]
  },
  {
   "cell_type": "code",
   "execution_count": 38,
   "metadata": {
    "collapsed": false
   },
   "outputs": [
    {
     "name": "stdout",
     "output_type": "stream",
     "text": [
      "[[ 0.74214982  0.25785018]\n",
      " [ 0.72687901  0.27312099]\n",
      " [ 0.71751315  0.28248685]\n",
      " [ 0.73311535  0.26688465]\n",
      " [ 0.71751315  0.28248685]\n",
      " [ 0.73311535  0.26688465]\n",
      " [ 0.74815828  0.25184172]\n",
      " [ 0.73311535  0.26688465]\n",
      " [ 0.73311535  0.26688465]\n",
      " [ 0.72687901  0.27312099]\n",
      " [ 0.72687901  0.27312099]\n",
      " [ 0.71751315  0.28248685]\n",
      " [ 0.72687901  0.27312099]\n",
      " [ 0.74214982  0.25785018]\n",
      " [ 0.73311535  0.26688465]\n",
      " [ 0.67089195  0.32910805]\n",
      " [ 0.72687901  0.27312099]\n",
      " [ 0.70137038  0.29862962]\n",
      " [ 0.72687901  0.27312099]\n",
      " [ 0.69470115  0.30529885]\n",
      " [ 0.72687901  0.27312099]\n",
      " [ 0.74214982  0.25785018]\n",
      " [ 0.71105592  0.28894408]\n",
      " [ 0.71751315  0.28248685]\n",
      " [ 0.73311535  0.26688465]\n",
      " [ 0.73311535  0.26688465]\n",
      " [ 0.73311535  0.26688465]\n",
      " [ 0.71751315  0.28248685]\n",
      " [ 0.72687901  0.27312099]\n",
      " [ 0.71751315  0.28248685]]\n"
     ]
    }
   ],
   "source": [
    "''' Estimated class probabilities on test set'''\n",
    "\n",
    "print(logreg_train.predict_proba(X_test))"
   ]
  },
  {
   "cell_type": "code",
   "execution_count": 39,
   "metadata": {
    "collapsed": false
   },
   "outputs": [
    {
     "name": "stdout",
     "output_type": "stream",
     "text": [
      "0.7\n"
     ]
    }
   ],
   "source": [
    "predicted = logreg_train.predict(X_test)\n",
    "print(metrics.accuracy_score(y_test, predicted))"
   ]
  },
  {
   "cell_type": "markdown",
   "metadata": {},
   "source": [
    "## Model evaluation using cross-validation (several out-of-sample datasets)"
   ]
  },
  {
   "cell_type": "code",
   "execution_count": 40,
   "metadata": {
    "collapsed": false
   },
   "outputs": [
    {
     "name": "stdout",
     "output_type": "stream",
     "text": [
      "[ 0.72727273  0.7         0.7         0.7         0.7         0.7         0.7\n",
      "  0.77777778  0.77777778  0.77777778]\n",
      "0.726060606061\n"
     ]
    }
   ],
   "source": [
    "''' Evaluate the model using 10-fold cross-validation. Uses 2 thirds of data for training and the last third for testing. \n",
    "    This process is repeated 10 times. '''\n",
    "\n",
    "scores = cross_val_score(LogisticRegression(), X, y, scoring='accuracy', cv=10)\n",
    "print(scores)\n",
    "print(scores.mean())"
   ]
  },
  {
   "cell_type": "markdown",
   "metadata": {
    "collapsed": true
   },
   "source": [
    "# References\n",
    "[1] Wirth, R. and Hipp, J., 2000, April. CRISP-DM: Towards a standard process model for data mining. In Proceedings of the 4th international conference on the practical applications of knowledge discovery and data mining (pp. 29-39).\n",
    "\n",
    "[2] Ifrim, G., ‘Lecture8-DataUnderstanding-Stats-Visualisation’, (COMP47350 Lecture Notes), University College Dublin, 2016\n",
    "\n",
    "[3] Ifrim, G., ‘Lecture12-DataUnderstanding-Correlation’, (COMP47350 Lecture Notes), University College Dublin, 2016\n",
    "\n",
    "[4] Ifrim, G.,  ‘Lecture10-DataUnderstanding-MotorInsurance-handson’, (COMP47350 Lecture Notes), University College Dublin, 2016\n",
    "\n",
    "[5] Ifrim, G., ‘Lecture15-Regression-LinearRegression-Interpretation-updated’, (COMP47350 Lecture Notes), University College Dublin, 2016\n",
    "\n",
    "[6] Ifrim, G., ‘Lecture16-LinearRegression-handson, (COMP47350 Lecture Notes)’, University College Dublin, 2016\n",
    "\n",
    "[7] Ifrim, G., ‘Lecture19-ModelEvaluation-ExperimentDesign, (COMP47350 Lecture Notes)’, University College Dublin, 2016"
   ]
  },
  {
   "cell_type": "code",
   "execution_count": null,
   "metadata": {
    "collapsed": true
   },
   "outputs": [],
   "source": []
  }
 ],
 "metadata": {
  "kernelspec": {
   "display_name": "Python 3",
   "language": "python",
   "name": "python3"
  },
  "language_info": {
   "codemirror_mode": {
    "name": "ipython",
    "version": 3
   },
   "file_extension": ".py",
   "mimetype": "text/x-python",
   "name": "python",
   "nbconvert_exporter": "python",
   "pygments_lexer": "ipython3",
   "version": "3.5.2"
  }
 },
 "nbformat": 4,
 "nbformat_minor": 0
}
