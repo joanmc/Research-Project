{
 "cells": [
  {
   "cell_type": "code",
   "execution_count": 14,
   "metadata": {
    "collapsed": true
   },
   "outputs": [],
   "source": [
    "import MySQLdb as db\n",
    "import pandas as pd\n",
    "import numpy as np\n",
    "from sklearn.cross_validation import cross_val_score\n",
    "from sklearn.linear_model import LogisticRegression\n",
    "from sklearn.dummy import DummyClassifier\n",
    "import matplotlib.pyplot as plt\n",
    "%matplotlib inline"
   ]
  },
  {
   "cell_type": "code",
   "execution_count": 15,
   "metadata": {
    "collapsed": false
   },
   "outputs": [
    {
     "data": {
      "text/html": [
       "<div>\n",
       "<table border=\"1\" class=\"dataframe\">\n",
       "  <thead>\n",
       "    <tr style=\"text-align: right;\">\n",
       "      <th></th>\n",
       "      <th>DateTime</th>\n",
       "      <th>Room</th>\n",
       "      <th>Capacity</th>\n",
       "      <th>Module</th>\n",
       "      <th>NumReg</th>\n",
       "      <th>Associated</th>\n",
       "      <th>PercentageEstimate</th>\n",
       "      <th>BinaryEstimate</th>\n",
       "    </tr>\n",
       "  </thead>\n",
       "  <tbody>\n",
       "    <tr>\n",
       "      <th>0</th>\n",
       "      <td>2015-11-03 09:00:00</td>\n",
       "      <td>B-002</td>\n",
       "      <td>90</td>\n",
       "      <td>None</td>\n",
       "      <td>0</td>\n",
       "      <td>1</td>\n",
       "      <td>0.00</td>\n",
       "      <td>0</td>\n",
       "    </tr>\n",
       "    <tr>\n",
       "      <th>1</th>\n",
       "      <td>2015-11-03 09:00:00</td>\n",
       "      <td>B-003</td>\n",
       "      <td>90</td>\n",
       "      <td>None</td>\n",
       "      <td>0</td>\n",
       "      <td>1</td>\n",
       "      <td>0.00</td>\n",
       "      <td>0</td>\n",
       "    </tr>\n",
       "    <tr>\n",
       "      <th>2</th>\n",
       "      <td>2015-11-03 09:00:00</td>\n",
       "      <td>B-004</td>\n",
       "      <td>220</td>\n",
       "      <td>COMP41450 &amp; COMP30120</td>\n",
       "      <td>143</td>\n",
       "      <td>124</td>\n",
       "      <td>0.75</td>\n",
       "      <td>1</td>\n",
       "    </tr>\n",
       "    <tr>\n",
       "      <th>3</th>\n",
       "      <td>2015-11-03 09:00:00</td>\n",
       "      <td>B-002</td>\n",
       "      <td>90</td>\n",
       "      <td>None</td>\n",
       "      <td>0</td>\n",
       "      <td>0</td>\n",
       "      <td>0.00</td>\n",
       "      <td>0</td>\n",
       "    </tr>\n",
       "    <tr>\n",
       "      <th>4</th>\n",
       "      <td>2015-11-03 09:00:00</td>\n",
       "      <td>B-003</td>\n",
       "      <td>90</td>\n",
       "      <td>None</td>\n",
       "      <td>0</td>\n",
       "      <td>1</td>\n",
       "      <td>0.00</td>\n",
       "      <td>0</td>\n",
       "    </tr>\n",
       "  </tbody>\n",
       "</table>\n",
       "</div>"
      ],
      "text/plain": [
       "             DateTime   Room  Capacity                 Module  NumReg  \\\n",
       "0 2015-11-03 09:00:00  B-002        90                   None       0   \n",
       "1 2015-11-03 09:00:00  B-003        90                   None       0   \n",
       "2 2015-11-03 09:00:00  B-004       220  COMP41450 & COMP30120     143   \n",
       "3 2015-11-03 09:00:00  B-002        90                   None       0   \n",
       "4 2015-11-03 09:00:00  B-003        90                   None       0   \n",
       "\n",
       "   Associated  PercentageEstimate  BinaryEstimate  \n",
       "0           1                0.00               0  \n",
       "1           1                0.00               0  \n",
       "2         124                0.75               1  \n",
       "3           0                0.00               0  \n",
       "4           1                0.00               0  "
      ]
     },
     "execution_count": 15,
     "metadata": {},
     "output_type": "execute_result"
    }
   ],
   "source": [
    "name = 'DatabaseMain'\n",
    "conn = db.connect(host = \"localhost\", user = \"root\", passwd =\"\", db=name)\n",
    "cursor = conn.cursor()\n",
    "\n",
    "sql = ''' SELECT G.DateTime, W.Room, R.Capacity, T.Module, M.NumReg, W.Associated, G.PercentageEstimate, G.BinaryEstimate\n",
    "          FROM DatabaseMain.WiFiLogData W, DatabaseMain.GroundTruth G, DatabaseMain.Rooms R, DatabaseMain.TimeModule T,\n",
    "          DatabaseMain.Modules M\n",
    "          WHERE W.Room = G.Room AND W.DateTime BETWEEN G.DateTime AND DATE_ADD(G.DateTime, INTERVAL 1 HOUR) \n",
    "          AND R.Room = W.Room AND R.Room = G.Room AND T.Room = G.Room AND T.Room = R.Room AND T.Room =  W.Room \n",
    "          AND T.DateTime = G.DateTime AND M.ModuleName = T.Module\n",
    "          ORDER BY G.DateTime'''\n",
    "df = pd.read_sql_query(sql, conn)\n",
    "df.head()\n",
    "\n"
   ]
  },
  {
   "cell_type": "code",
   "execution_count": 16,
   "metadata": {
    "collapsed": false
   },
   "outputs": [
    {
     "data": {
      "text/html": [
       "<div>\n",
       "<table border=\"1\" class=\"dataframe\">\n",
       "  <thead>\n",
       "    <tr style=\"text-align: right;\">\n",
       "      <th></th>\n",
       "      <th>DateTime</th>\n",
       "      <th>Room</th>\n",
       "      <th>Capacity</th>\n",
       "      <th>Module</th>\n",
       "      <th>NumReg</th>\n",
       "      <th>Associated</th>\n",
       "      <th>PercentageEstimate</th>\n",
       "      <th>BinaryEstimate</th>\n",
       "      <th>estimate</th>\n",
       "    </tr>\n",
       "  </thead>\n",
       "  <tbody>\n",
       "    <tr>\n",
       "      <th>0</th>\n",
       "      <td>2015-11-03 09:00:00</td>\n",
       "      <td>B-002</td>\n",
       "      <td>90</td>\n",
       "      <td>None</td>\n",
       "      <td>0</td>\n",
       "      <td>1</td>\n",
       "      <td>0.00</td>\n",
       "      <td>0</td>\n",
       "      <td>0.0</td>\n",
       "    </tr>\n",
       "    <tr>\n",
       "      <th>1</th>\n",
       "      <td>2015-11-03 09:00:00</td>\n",
       "      <td>B-003</td>\n",
       "      <td>90</td>\n",
       "      <td>None</td>\n",
       "      <td>0</td>\n",
       "      <td>1</td>\n",
       "      <td>0.00</td>\n",
       "      <td>0</td>\n",
       "      <td>0.0</td>\n",
       "    </tr>\n",
       "    <tr>\n",
       "      <th>2</th>\n",
       "      <td>2015-11-03 09:00:00</td>\n",
       "      <td>B-004</td>\n",
       "      <td>220</td>\n",
       "      <td>COMP41450 &amp; COMP30120</td>\n",
       "      <td>143</td>\n",
       "      <td>124</td>\n",
       "      <td>0.75</td>\n",
       "      <td>1</td>\n",
       "      <td>165.0</td>\n",
       "    </tr>\n",
       "    <tr>\n",
       "      <th>3</th>\n",
       "      <td>2015-11-03 09:00:00</td>\n",
       "      <td>B-002</td>\n",
       "      <td>90</td>\n",
       "      <td>None</td>\n",
       "      <td>0</td>\n",
       "      <td>0</td>\n",
       "      <td>0.00</td>\n",
       "      <td>0</td>\n",
       "      <td>0.0</td>\n",
       "    </tr>\n",
       "    <tr>\n",
       "      <th>4</th>\n",
       "      <td>2015-11-03 09:00:00</td>\n",
       "      <td>B-003</td>\n",
       "      <td>90</td>\n",
       "      <td>None</td>\n",
       "      <td>0</td>\n",
       "      <td>1</td>\n",
       "      <td>0.00</td>\n",
       "      <td>0</td>\n",
       "      <td>0.0</td>\n",
       "    </tr>\n",
       "  </tbody>\n",
       "</table>\n",
       "</div>"
      ],
      "text/plain": [
       "             DateTime   Room  Capacity                 Module  NumReg  \\\n",
       "0 2015-11-03 09:00:00  B-002        90                   None       0   \n",
       "1 2015-11-03 09:00:00  B-003        90                   None       0   \n",
       "2 2015-11-03 09:00:00  B-004       220  COMP41450 & COMP30120     143   \n",
       "3 2015-11-03 09:00:00  B-002        90                   None       0   \n",
       "4 2015-11-03 09:00:00  B-003        90                   None       0   \n",
       "\n",
       "   Associated  PercentageEstimate  BinaryEstimate  estimate  \n",
       "0           1                0.00               0       0.0  \n",
       "1           1                0.00               0       0.0  \n",
       "2         124                0.75               1     165.0  \n",
       "3           0                0.00               0       0.0  \n",
       "4           1                0.00               0       0.0  "
      ]
     },
     "execution_count": 16,
     "metadata": {},
     "output_type": "execute_result"
    }
   ],
   "source": [
    "df['estimate'] = df['Capacity'] * df['PercentageEstimate']\n",
    "df.head()"
   ]
  },
  {
   "cell_type": "markdown",
   "metadata": {},
   "source": [
    "## Outlier detection using "
   ]
  },
  {
   "cell_type": "code",
   "execution_count": 17,
   "metadata": {
    "collapsed": false
   },
   "outputs": [
    {
     "data": {
      "text/plain": [
       "(2502, 9)"
      ]
     },
     "execution_count": 17,
     "metadata": {},
     "output_type": "execute_result"
    }
   ],
   "source": [
    "df.shape"
   ]
  },
  {
   "cell_type": "code",
   "execution_count": 18,
   "metadata": {
    "collapsed": false
   },
   "outputs": [
    {
     "data": {
      "text/plain": [
       "(959, 9)"
      ]
     },
     "execution_count": 18,
     "metadata": {},
     "output_type": "execute_result"
    }
   ],
   "source": [
    "# Reference: Ifrim, G, 'Lab5-notebook-DataUnderstanding-MotorInsuranceData.ipnb'\n",
    "# Reference: Nelli, Fabio, 'Python Data Analytics: Data Analysis and Science using pandas, matplotlib and the Python \n",
    "# Programming Language', Apress, Springer Science + Business Media, New York, 2015 p. 151\n",
    "continuousColumns = df.select_dtypes(['int64', 'float64'])\n",
    "continuousColumns = df[(np.abs(continuousColumns )> (3*continuousColumns ).std()).any(1)] \n",
    "continuousColumns.shape"
   ]
  },
  {
   "cell_type": "markdown",
   "metadata": {},
   "source": [
    "### We can see from this that a large amount of data is outside 3 standard deviations from the mean. This would indicate that there is not a normal distribution in the data [3, p. 127]. For this reason we have to look at the type of distribution that there is in order to address outliers correctly which we did by first plotting the data."
   ]
  },
  {
   "cell_type": "markdown",
   "metadata": {},
   "source": [
    "# Plotting data"
   ]
  },
  {
   "cell_type": "markdown",
   "metadata": {},
   "source": [
    "## Distribution\n",
    "### Looking at the Wi-Fi estimate \n"
   ]
  },
  {
   "cell_type": "code",
   "execution_count": 19,
   "metadata": {
    "collapsed": false
   },
   "outputs": [
    {
     "data": {
      "text/plain": [
       "array([[<matplotlib.axes._subplots.AxesSubplot object at 0x112a346a0>,\n",
       "        <matplotlib.axes._subplots.AxesSubplot object at 0x10345be48>],\n",
       "       [<matplotlib.axes._subplots.AxesSubplot object at 0x10554b390>,\n",
       "        <matplotlib.axes._subplots.AxesSubplot object at 0x1114004e0>],\n",
       "       [<matplotlib.axes._subplots.AxesSubplot object at 0x1114196a0>,\n",
       "        <matplotlib.axes._subplots.AxesSubplot object at 0x111488400>]], dtype=object)"
      ]
     },
     "execution_count": 19,
     "metadata": {},
     "output_type": "execute_result"
    },
    {
     "data": {
      "image/png": "[encoded data removed]",
      "text/plain": [
       "<matplotlib.figure.Figure at 0x1125195f8>"
      ]
     },
     "metadata": {},
     "output_type": "display_data"
    }
   ],
   "source": [
    "df.hist(figsize = (30,30))"
   ]
  },
  {
   "cell_type": "markdown",
   "metadata": {},
   "source": [
    "## Type of distribution:\n",
    "From these plots we can see that the estimated number of people along with the associated count of Wi-Fi connections are positively skewed. To confirm this, we can look at the number of values below the mean value for both these feaures. [2, pp. 76-77]"
   ]
  },
  {
   "cell_type": "markdown",
   "metadata": {},
   "source": [
    "### Describe numerical features in dataframe"
   ]
  },
  {
   "cell_type": "code",
   "execution_count": 20,
   "metadata": {
    "collapsed": false
   },
   "outputs": [
    {
     "data": {
      "text/html": [
       "<div>\n",
       "<table border=\"1\" class=\"dataframe\">\n",
       "  <thead>\n",
       "    <tr style=\"text-align: right;\">\n",
       "      <th></th>\n",
       "      <th>Capacity</th>\n",
       "      <th>NumReg</th>\n",
       "      <th>Associated</th>\n",
       "      <th>PercentageEstimate</th>\n",
       "      <th>BinaryEstimate</th>\n",
       "      <th>estimate</th>\n",
       "    </tr>\n",
       "  </thead>\n",
       "  <tbody>\n",
       "    <tr>\n",
       "      <th>count</th>\n",
       "      <td>2502.000000</td>\n",
       "      <td>2502.000000</td>\n",
       "      <td>2502.000000</td>\n",
       "      <td>2502.000000</td>\n",
       "      <td>2502.000000</td>\n",
       "      <td>2502.000000</td>\n",
       "    </tr>\n",
       "    <tr>\n",
       "      <th>mean</th>\n",
       "      <td>133.333333</td>\n",
       "      <td>38.288569</td>\n",
       "      <td>30.284972</td>\n",
       "      <td>0.249101</td>\n",
       "      <td>0.687450</td>\n",
       "      <td>32.628897</td>\n",
       "    </tr>\n",
       "    <tr>\n",
       "      <th>std</th>\n",
       "      <td>61.294838</td>\n",
       "      <td>40.911113</td>\n",
       "      <td>28.965944</td>\n",
       "      <td>0.217957</td>\n",
       "      <td>0.463625</td>\n",
       "      <td>34.702654</td>\n",
       "    </tr>\n",
       "    <tr>\n",
       "      <th>min</th>\n",
       "      <td>90.000000</td>\n",
       "      <td>0.000000</td>\n",
       "      <td>0.000000</td>\n",
       "      <td>0.000000</td>\n",
       "      <td>0.000000</td>\n",
       "      <td>0.000000</td>\n",
       "    </tr>\n",
       "    <tr>\n",
       "      <th>25%</th>\n",
       "      <td>90.000000</td>\n",
       "      <td>0.000000</td>\n",
       "      <td>10.000000</td>\n",
       "      <td>0.000000</td>\n",
       "      <td>0.000000</td>\n",
       "      <td>0.000000</td>\n",
       "    </tr>\n",
       "    <tr>\n",
       "      <th>50%</th>\n",
       "      <td>90.000000</td>\n",
       "      <td>29.000000</td>\n",
       "      <td>22.000000</td>\n",
       "      <td>0.250000</td>\n",
       "      <td>1.000000</td>\n",
       "      <td>22.500000</td>\n",
       "    </tr>\n",
       "    <tr>\n",
       "      <th>75%</th>\n",
       "      <td>220.000000</td>\n",
       "      <td>60.000000</td>\n",
       "      <td>42.000000</td>\n",
       "      <td>0.250000</td>\n",
       "      <td>1.000000</td>\n",
       "      <td>55.000000</td>\n",
       "    </tr>\n",
       "    <tr>\n",
       "      <th>max</th>\n",
       "      <td>220.000000</td>\n",
       "      <td>143.000000</td>\n",
       "      <td>232.000000</td>\n",
       "      <td>1.000000</td>\n",
       "      <td>1.000000</td>\n",
       "      <td>220.000000</td>\n",
       "    </tr>\n",
       "  </tbody>\n",
       "</table>\n",
       "</div>"
      ],
      "text/plain": [
       "          Capacity       NumReg   Associated  PercentageEstimate  \\\n",
       "count  2502.000000  2502.000000  2502.000000         2502.000000   \n",
       "mean    133.333333    38.288569    30.284972            0.249101   \n",
       "std      61.294838    40.911113    28.965944            0.217957   \n",
       "min      90.000000     0.000000     0.000000            0.000000   \n",
       "25%      90.000000     0.000000    10.000000            0.000000   \n",
       "50%      90.000000    29.000000    22.000000            0.250000   \n",
       "75%     220.000000    60.000000    42.000000            0.250000   \n",
       "max     220.000000   143.000000   232.000000            1.000000   \n",
       "\n",
       "       BinaryEstimate     estimate  \n",
       "count     2502.000000  2502.000000  \n",
       "mean         0.687450    32.628897  \n",
       "std          0.463625    34.702654  \n",
       "min          0.000000     0.000000  \n",
       "25%          0.000000     0.000000  \n",
       "50%          1.000000    22.500000  \n",
       "75%          1.000000    55.000000  \n",
       "max          1.000000   220.000000  "
      ]
     },
     "execution_count": 20,
     "metadata": {},
     "output_type": "execute_result"
    }
   ],
   "source": [
    "df.describe()"
   ]
  },
  {
   "cell_type": "markdown",
   "metadata": {},
   "source": [
    "### Find the number of values for estimates"
   ]
  },
  {
   "cell_type": "code",
   "execution_count": 21,
   "metadata": {
    "collapsed": false
   },
   "outputs": [
    {
     "data": {
      "text/plain": [
       "0.0      782\n",
       "22.5     776\n",
       "55.0     332\n",
       "45.0     278\n",
       "110.0    185\n",
       "67.5     125\n",
       "220.0     12\n",
       "165.0     12\n",
       "Name: estimate, dtype: int64"
      ]
     },
     "execution_count": 21,
     "metadata": {},
     "output_type": "execute_result"
    }
   ],
   "source": [
    "# www.shanelynn.ie/summarising-aggregation-and-grouping-data-in-grouping-data-in-python-pandas\n",
    "df['estimate'].value_counts()"
   ]
  },
  {
   "cell_type": "markdown",
   "metadata": {},
   "source": [
    "### Find the number of values for associated connections"
   ]
  },
  {
   "cell_type": "code",
   "execution_count": 22,
   "metadata": {
    "collapsed": false
   },
   "outputs": [
    {
     "data": {
      "text/plain": [
       "14     80\n",
       "0      77\n",
       "9      73\n",
       "15     67\n",
       "2      66\n",
       "11     63\n",
       "7      62\n",
       "13     59\n",
       "12     59\n",
       "6      58\n",
       "17     52\n",
       "5      51\n",
       "10     51\n",
       "8      51\n",
       "1      50\n",
       "3      48\n",
       "34     48\n",
       "30     48\n",
       "16     47\n",
       "19     46\n",
       "21     46\n",
       "23     45\n",
       "18     43\n",
       "4      43\n",
       "28     42\n",
       "29     42\n",
       "26     40\n",
       "22     39\n",
       "24     38\n",
       "35     36\n",
       "       ..\n",
       "130     2\n",
       "132     2\n",
       "124     2\n",
       "122     2\n",
       "114     2\n",
       "112     2\n",
       "110     2\n",
       "102     2\n",
       "90      2\n",
       "177     1\n",
       "159     1\n",
       "133     1\n",
       "131     1\n",
       "123     1\n",
       "121     1\n",
       "203     1\n",
       "221     1\n",
       "119     1\n",
       "232     1\n",
       "113     1\n",
       "107     1\n",
       "227     1\n",
       "226     1\n",
       "224     1\n",
       "206     1\n",
       "162     1\n",
       "126     1\n",
       "120     1\n",
       "106     1\n",
       "229     1\n",
       "Name: Associated, dtype: int64"
      ]
     },
     "execution_count": 22,
     "metadata": {},
     "output_type": "execute_result"
    }
   ],
   "source": [
    "df['Associated'].value_counts()"
   ]
  },
  {
   "cell_type": "markdown",
   "metadata": {},
   "source": [
    "### Find the total number of values below the mean for both the estimates and the associated count."
   ]
  },
  {
   "cell_type": "code",
   "execution_count": 23,
   "metadata": {
    "collapsed": false
   },
   "outputs": [
    {
     "name": "stdout",
     "output_type": "stream",
     "text": [
      "For estimated number of people, values (under mean, over mean):  (1558, 944)\n",
      "For Wi-Fi connections, values (under mean, over mean):  (1576, 926)\n"
     ]
    }
   ],
   "source": [
    "def underOverMean(Feature, mean):\n",
    "    underMean, overMean = 0, 0\n",
    "    for i in range(len(df)):\n",
    "        if Feature[i]<mean:\n",
    "            underMean +=1\n",
    "        else:\n",
    "            overMean+=1\n",
    "    return (underMean, overMean)\n",
    "    \n",
    "    \n",
    "print('For estimated number of people, values (under mean, over mean): ', underOverMean(df.estimate, 32.628897))\n",
    "print('For Wi-Fi connections, values (under mean, over mean): ', underOverMean(df.Associated,  30.284972))\n"
   ]
  },
  {
   "cell_type": "markdown",
   "metadata": {},
   "source": [
    "## Analysis\n",
    "Because we can now see that the target feature (and also the associated connections) have a positively skewed distribution instead of a normal distribution [2, pp. 76-77], we cannot use the 68-95-99.7 rule [3, p. 127] so instead we will have to plot the data using box plots in order to identify outliers in the target feature. "
   ]
  },
  {
   "cell_type": "markdown",
   "metadata": {},
   "source": [
    "# Identifying outliers - Bloxplots "
   ]
  },
  {
   "cell_type": "code",
   "execution_count": 24,
   "metadata": {
    "collapsed": false
   },
   "outputs": [
    {
     "data": {
      "text/plain": [
       "<matplotlib.axes._subplots.AxesSubplot at 0x1115256d8>"
      ]
     },
     "execution_count": 24,
     "metadata": {},
     "output_type": "execute_result"
    },
    {
     "data": {
      "image/png": "[encoded data removed]",
      "text/plain": [
       "<matplotlib.figure.Figure at 0x111454908>"
      ]
     },
     "metadata": {},
     "output_type": "display_data"
    }
   ],
   "source": [
    "# http://pandas.pydata.org/pandas-docs/version/0.15.0/visualization.html\n",
    "df.plot(kind = 'box', figsize = (10,10))"
   ]
  },
  {
   "cell_type": "markdown",
   "metadata": {
    "collapsed": true
   },
   "source": [
    "The crosses on the boxplot signify possible outliers. In the estimate columns, we can see that there are two areas \n",
    "in which there are possuble outliers. These values are roughly over 150 and over 220. To access whether these values\n",
    "are caused by error or are valid data and then we have to look at how to deal with them. "
   ]
  },
  {
   "cell_type": "code",
   "execution_count": 25,
   "metadata": {
    "collapsed": false
   },
   "outputs": [
    {
     "data": {
      "text/html": [
       "<div>\n",
       "<table border=\"1\" class=\"dataframe\">\n",
       "  <thead>\n",
       "    <tr style=\"text-align: right;\">\n",
       "      <th></th>\n",
       "      <th>DateTime</th>\n",
       "      <th>Room</th>\n",
       "      <th>Capacity</th>\n",
       "      <th>Module</th>\n",
       "      <th>NumReg</th>\n",
       "      <th>Associated</th>\n",
       "      <th>PercentageEstimate</th>\n",
       "      <th>BinaryEstimate</th>\n",
       "      <th>estimate</th>\n",
       "    </tr>\n",
       "  </thead>\n",
       "  <tbody>\n",
       "    <tr>\n",
       "      <th>2</th>\n",
       "      <td>2015-11-03 09:00:00</td>\n",
       "      <td>B-004</td>\n",
       "      <td>220</td>\n",
       "      <td>COMP41450 &amp; COMP30120</td>\n",
       "      <td>143</td>\n",
       "      <td>124</td>\n",
       "      <td>0.75</td>\n",
       "      <td>1</td>\n",
       "      <td>165.0</td>\n",
       "    </tr>\n",
       "    <tr>\n",
       "      <th>5</th>\n",
       "      <td>2015-11-03 09:00:00</td>\n",
       "      <td>B-004</td>\n",
       "      <td>220</td>\n",
       "      <td>COMP41450 &amp; COMP30120</td>\n",
       "      <td>143</td>\n",
       "      <td>119</td>\n",
       "      <td>0.75</td>\n",
       "      <td>1</td>\n",
       "      <td>165.0</td>\n",
       "    </tr>\n",
       "    <tr>\n",
       "      <th>7</th>\n",
       "      <td>2015-11-03 09:00:00</td>\n",
       "      <td>B-004</td>\n",
       "      <td>220</td>\n",
       "      <td>COMP41450 &amp; COMP30120</td>\n",
       "      <td>143</td>\n",
       "      <td>62</td>\n",
       "      <td>0.75</td>\n",
       "      <td>1</td>\n",
       "      <td>165.0</td>\n",
       "    </tr>\n",
       "    <tr>\n",
       "      <th>11</th>\n",
       "      <td>2015-11-03 09:00:00</td>\n",
       "      <td>B-004</td>\n",
       "      <td>220</td>\n",
       "      <td>COMP41450 &amp; COMP30120</td>\n",
       "      <td>143</td>\n",
       "      <td>68</td>\n",
       "      <td>0.75</td>\n",
       "      <td>1</td>\n",
       "      <td>165.0</td>\n",
       "    </tr>\n",
       "    <tr>\n",
       "      <th>14</th>\n",
       "      <td>2015-11-03 09:00:00</td>\n",
       "      <td>B-004</td>\n",
       "      <td>220</td>\n",
       "      <td>COMP41450 &amp; COMP30120</td>\n",
       "      <td>143</td>\n",
       "      <td>125</td>\n",
       "      <td>0.75</td>\n",
       "      <td>1</td>\n",
       "      <td>165.0</td>\n",
       "    </tr>\n",
       "    <tr>\n",
       "      <th>17</th>\n",
       "      <td>2015-11-03 09:00:00</td>\n",
       "      <td>B-004</td>\n",
       "      <td>220</td>\n",
       "      <td>COMP41450 &amp; COMP30120</td>\n",
       "      <td>143</td>\n",
       "      <td>124</td>\n",
       "      <td>0.75</td>\n",
       "      <td>1</td>\n",
       "      <td>165.0</td>\n",
       "    </tr>\n",
       "    <tr>\n",
       "      <th>19</th>\n",
       "      <td>2015-11-03 09:00:00</td>\n",
       "      <td>B-004</td>\n",
       "      <td>220</td>\n",
       "      <td>COMP41450 &amp; COMP30120</td>\n",
       "      <td>143</td>\n",
       "      <td>95</td>\n",
       "      <td>0.75</td>\n",
       "      <td>1</td>\n",
       "      <td>165.0</td>\n",
       "    </tr>\n",
       "    <tr>\n",
       "      <th>22</th>\n",
       "      <td>2015-11-03 09:00:00</td>\n",
       "      <td>B-004</td>\n",
       "      <td>220</td>\n",
       "      <td>COMP41450 &amp; COMP30120</td>\n",
       "      <td>143</td>\n",
       "      <td>20</td>\n",
       "      <td>0.75</td>\n",
       "      <td>1</td>\n",
       "      <td>165.0</td>\n",
       "    </tr>\n",
       "    <tr>\n",
       "      <th>25</th>\n",
       "      <td>2015-11-03 09:00:00</td>\n",
       "      <td>B-004</td>\n",
       "      <td>220</td>\n",
       "      <td>COMP41450 &amp; COMP30120</td>\n",
       "      <td>143</td>\n",
       "      <td>125</td>\n",
       "      <td>0.75</td>\n",
       "      <td>1</td>\n",
       "      <td>165.0</td>\n",
       "    </tr>\n",
       "    <tr>\n",
       "      <th>28</th>\n",
       "      <td>2015-11-03 09:00:00</td>\n",
       "      <td>B-004</td>\n",
       "      <td>220</td>\n",
       "      <td>COMP41450 &amp; COMP30120</td>\n",
       "      <td>143</td>\n",
       "      <td>122</td>\n",
       "      <td>0.75</td>\n",
       "      <td>1</td>\n",
       "      <td>165.0</td>\n",
       "    </tr>\n",
       "    <tr>\n",
       "      <th>31</th>\n",
       "      <td>2015-11-03 09:00:00</td>\n",
       "      <td>B-004</td>\n",
       "      <td>220</td>\n",
       "      <td>COMP41450 &amp; COMP30120</td>\n",
       "      <td>143</td>\n",
       "      <td>113</td>\n",
       "      <td>0.75</td>\n",
       "      <td>1</td>\n",
       "      <td>165.0</td>\n",
       "    </tr>\n",
       "    <tr>\n",
       "      <th>35</th>\n",
       "      <td>2015-11-03 09:00:00</td>\n",
       "      <td>B-004</td>\n",
       "      <td>220</td>\n",
       "      <td>COMP41450 &amp; COMP30120</td>\n",
       "      <td>143</td>\n",
       "      <td>130</td>\n",
       "      <td>0.75</td>\n",
       "      <td>1</td>\n",
       "      <td>165.0</td>\n",
       "    </tr>\n",
       "    <tr>\n",
       "      <th>552</th>\n",
       "      <td>2015-11-05 09:00:00</td>\n",
       "      <td>B-004</td>\n",
       "      <td>220</td>\n",
       "      <td>COMP41450 &amp; COMP30120</td>\n",
       "      <td>143</td>\n",
       "      <td>203</td>\n",
       "      <td>1.00</td>\n",
       "      <td>1</td>\n",
       "      <td>220.0</td>\n",
       "    </tr>\n",
       "    <tr>\n",
       "      <th>555</th>\n",
       "      <td>2015-11-05 09:00:00</td>\n",
       "      <td>B-004</td>\n",
       "      <td>220</td>\n",
       "      <td>COMP41450 &amp; COMP30120</td>\n",
       "      <td>143</td>\n",
       "      <td>232</td>\n",
       "      <td>1.00</td>\n",
       "      <td>1</td>\n",
       "      <td>220.0</td>\n",
       "    </tr>\n",
       "    <tr>\n",
       "      <th>558</th>\n",
       "      <td>2015-11-05 09:00:00</td>\n",
       "      <td>B-004</td>\n",
       "      <td>220</td>\n",
       "      <td>COMP41450 &amp; COMP30120</td>\n",
       "      <td>143</td>\n",
       "      <td>224</td>\n",
       "      <td>1.00</td>\n",
       "      <td>1</td>\n",
       "      <td>220.0</td>\n",
       "    </tr>\n",
       "    <tr>\n",
       "      <th>560</th>\n",
       "      <td>2015-11-05 09:00:00</td>\n",
       "      <td>B-004</td>\n",
       "      <td>220</td>\n",
       "      <td>COMP41450 &amp; COMP30120</td>\n",
       "      <td>143</td>\n",
       "      <td>206</td>\n",
       "      <td>1.00</td>\n",
       "      <td>1</td>\n",
       "      <td>220.0</td>\n",
       "    </tr>\n",
       "    <tr>\n",
       "      <th>564</th>\n",
       "      <td>2015-11-05 09:00:00</td>\n",
       "      <td>B-004</td>\n",
       "      <td>220</td>\n",
       "      <td>COMP41450 &amp; COMP30120</td>\n",
       "      <td>143</td>\n",
       "      <td>85</td>\n",
       "      <td>1.00</td>\n",
       "      <td>1</td>\n",
       "      <td>220.0</td>\n",
       "    </tr>\n",
       "    <tr>\n",
       "      <th>567</th>\n",
       "      <td>2015-11-05 09:00:00</td>\n",
       "      <td>B-004</td>\n",
       "      <td>220</td>\n",
       "      <td>COMP41450 &amp; COMP30120</td>\n",
       "      <td>143</td>\n",
       "      <td>227</td>\n",
       "      <td>1.00</td>\n",
       "      <td>1</td>\n",
       "      <td>220.0</td>\n",
       "    </tr>\n",
       "    <tr>\n",
       "      <th>570</th>\n",
       "      <td>2015-11-05 09:00:00</td>\n",
       "      <td>B-004</td>\n",
       "      <td>220</td>\n",
       "      <td>COMP41450 &amp; COMP30120</td>\n",
       "      <td>143</td>\n",
       "      <td>228</td>\n",
       "      <td>1.00</td>\n",
       "      <td>1</td>\n",
       "      <td>220.0</td>\n",
       "    </tr>\n",
       "    <tr>\n",
       "      <th>572</th>\n",
       "      <td>2015-11-05 09:00:00</td>\n",
       "      <td>B-004</td>\n",
       "      <td>220</td>\n",
       "      <td>COMP41450 &amp; COMP30120</td>\n",
       "      <td>143</td>\n",
       "      <td>228</td>\n",
       "      <td>1.00</td>\n",
       "      <td>1</td>\n",
       "      <td>220.0</td>\n",
       "    </tr>\n",
       "    <tr>\n",
       "      <th>575</th>\n",
       "      <td>2015-11-05 09:00:00</td>\n",
       "      <td>B-004</td>\n",
       "      <td>220</td>\n",
       "      <td>COMP41450 &amp; COMP30120</td>\n",
       "      <td>143</td>\n",
       "      <td>6</td>\n",
       "      <td>1.00</td>\n",
       "      <td>1</td>\n",
       "      <td>220.0</td>\n",
       "    </tr>\n",
       "    <tr>\n",
       "      <th>578</th>\n",
       "      <td>2015-11-05 09:00:00</td>\n",
       "      <td>B-004</td>\n",
       "      <td>220</td>\n",
       "      <td>COMP41450 &amp; COMP30120</td>\n",
       "      <td>143</td>\n",
       "      <td>221</td>\n",
       "      <td>1.00</td>\n",
       "      <td>1</td>\n",
       "      <td>220.0</td>\n",
       "    </tr>\n",
       "    <tr>\n",
       "      <th>581</th>\n",
       "      <td>2015-11-05 09:00:00</td>\n",
       "      <td>B-004</td>\n",
       "      <td>220</td>\n",
       "      <td>COMP41450 &amp; COMP30120</td>\n",
       "      <td>143</td>\n",
       "      <td>229</td>\n",
       "      <td>1.00</td>\n",
       "      <td>1</td>\n",
       "      <td>220.0</td>\n",
       "    </tr>\n",
       "    <tr>\n",
       "      <th>584</th>\n",
       "      <td>2015-11-05 09:00:00</td>\n",
       "      <td>B-004</td>\n",
       "      <td>220</td>\n",
       "      <td>COMP41450 &amp; COMP30120</td>\n",
       "      <td>143</td>\n",
       "      <td>226</td>\n",
       "      <td>1.00</td>\n",
       "      <td>1</td>\n",
       "      <td>220.0</td>\n",
       "    </tr>\n",
       "  </tbody>\n",
       "</table>\n",
       "</div>"
      ],
      "text/plain": [
       "               DateTime   Room  Capacity                 Module  NumReg  \\\n",
       "2   2015-11-03 09:00:00  B-004       220  COMP41450 & COMP30120     143   \n",
       "5   2015-11-03 09:00:00  B-004       220  COMP41450 & COMP30120     143   \n",
       "7   2015-11-03 09:00:00  B-004       220  COMP41450 & COMP30120     143   \n",
       "11  2015-11-03 09:00:00  B-004       220  COMP41450 & COMP30120     143   \n",
       "14  2015-11-03 09:00:00  B-004       220  COMP41450 & COMP30120     143   \n",
       "17  2015-11-03 09:00:00  B-004       220  COMP41450 & COMP30120     143   \n",
       "19  2015-11-03 09:00:00  B-004       220  COMP41450 & COMP30120     143   \n",
       "22  2015-11-03 09:00:00  B-004       220  COMP41450 & COMP30120     143   \n",
       "25  2015-11-03 09:00:00  B-004       220  COMP41450 & COMP30120     143   \n",
       "28  2015-11-03 09:00:00  B-004       220  COMP41450 & COMP30120     143   \n",
       "31  2015-11-03 09:00:00  B-004       220  COMP41450 & COMP30120     143   \n",
       "35  2015-11-03 09:00:00  B-004       220  COMP41450 & COMP30120     143   \n",
       "552 2015-11-05 09:00:00  B-004       220  COMP41450 & COMP30120     143   \n",
       "555 2015-11-05 09:00:00  B-004       220  COMP41450 & COMP30120     143   \n",
       "558 2015-11-05 09:00:00  B-004       220  COMP41450 & COMP30120     143   \n",
       "560 2015-11-05 09:00:00  B-004       220  COMP41450 & COMP30120     143   \n",
       "564 2015-11-05 09:00:00  B-004       220  COMP41450 & COMP30120     143   \n",
       "567 2015-11-05 09:00:00  B-004       220  COMP41450 & COMP30120     143   \n",
       "570 2015-11-05 09:00:00  B-004       220  COMP41450 & COMP30120     143   \n",
       "572 2015-11-05 09:00:00  B-004       220  COMP41450 & COMP30120     143   \n",
       "575 2015-11-05 09:00:00  B-004       220  COMP41450 & COMP30120     143   \n",
       "578 2015-11-05 09:00:00  B-004       220  COMP41450 & COMP30120     143   \n",
       "581 2015-11-05 09:00:00  B-004       220  COMP41450 & COMP30120     143   \n",
       "584 2015-11-05 09:00:00  B-004       220  COMP41450 & COMP30120     143   \n",
       "\n",
       "     Associated  PercentageEstimate  BinaryEstimate  estimate  \n",
       "2           124                0.75               1     165.0  \n",
       "5           119                0.75               1     165.0  \n",
       "7            62                0.75               1     165.0  \n",
       "11           68                0.75               1     165.0  \n",
       "14          125                0.75               1     165.0  \n",
       "17          124                0.75               1     165.0  \n",
       "19           95                0.75               1     165.0  \n",
       "22           20                0.75               1     165.0  \n",
       "25          125                0.75               1     165.0  \n",
       "28          122                0.75               1     165.0  \n",
       "31          113                0.75               1     165.0  \n",
       "35          130                0.75               1     165.0  \n",
       "552         203                1.00               1     220.0  \n",
       "555         232                1.00               1     220.0  \n",
       "558         224                1.00               1     220.0  \n",
       "560         206                1.00               1     220.0  \n",
       "564          85                1.00               1     220.0  \n",
       "567         227                1.00               1     220.0  \n",
       "570         228                1.00               1     220.0  \n",
       "572         228                1.00               1     220.0  \n",
       "575           6                1.00               1     220.0  \n",
       "578         221                1.00               1     220.0  \n",
       "581         229                1.00               1     220.0  \n",
       "584         226                1.00               1     220.0  "
      ]
     },
     "execution_count": 25,
     "metadata": {},
     "output_type": "execute_result"
    }
   ],
   "source": [
    "over150 = df[(df.estimate>150 )]\n",
    "over150"
   ]
  },
  {
   "cell_type": "markdown",
   "metadata": {},
   "source": [
    "There are 24 perceived outliers in this distribution. To understand why these outliers exist, we need to take a look at how the groundtruth data was collected.We know that there were either 25%, 50%, 75% or 100% estimated to be in the room so for the first set of estimates at 165, considering there are 143 people registered in the modules, this is most probably a reasonable estimate of the number of people in the room.  However, when we look at the last 12 rows we can see that there are the same number of people registered in the module, however the room is apparently at full capacity (i.e. 220 people). This is a percieved over-estimation of 76 people meaning that this outlier could potentially be down to human error. Notably, there are also more wifi connections in the last 220 rows however this could be coming from a different room or could come from students having more devices. We could assume also that there were significantly more people in the room on this day, however, given that this is a slot with a certain number of students registered, it is unlikely that there would be 76 extra occupants in the room. To deal with this apparently human error, we can clamp the estimate as the number of students registered for the module as this is more of a realistic maximum estimate of the number of people in the room ffor this particular hour. "
   ]
  },
  {
   "cell_type": "markdown",
   "metadata": {},
   "source": [
    "# Modelling techniques"
   ]
  },
  {
   "cell_type": "markdown",
   "metadata": {},
   "source": [
    "To get an idea of the best fit model for our data, we first looked at a simple linear regression. In order to take a understand whether these this type of model is approprate we can plot the residual values which will indicate the error between the predicted estimate and the actual estimate for the model [1, p.93]. If a linear model is truely a good fit for the data then there should not be a pattern within the residuals plotted however when we do plot these residuals, there are clear patterns which could indicate non-linearity [1, p.93-94]. For this reason, we descided to use logistic regression in order to build a more appropriately fitted model. "
   ]
  },
  {
   "cell_type": "code",
   "execution_count": 31,
   "metadata": {
    "collapsed": false
   },
   "outputs": [
    {
     "ename": "AttributeError",
     "evalue": "'DataFrame' object has no attribute 'Estimate'",
     "output_type": "error",
     "traceback": [
      "\u001b[0;31m---------------------------------------------------------------------------\u001b[0m",
      "\u001b[0;31mAttributeError\u001b[0m                            Traceback (most recent call last)",
      "\u001b[0;32m<ipython-input-31-01fd6908b7bc>\u001b[0m in \u001b[0;36m<module>\u001b[0;34m()\u001b[0m\n\u001b[1;32m      2\u001b[0m \u001b[0;31m# http://bigdataexaminer.com/uncategorized/linear-regression-in-python-using-stats-models/\u001b[0m\u001b[0;34m\u001b[0m\u001b[0;34m\u001b[0m\u001b[0m\n\u001b[1;32m      3\u001b[0m \u001b[0mlm\u001b[0m \u001b[0;34m=\u001b[0m \u001b[0msm\u001b[0m\u001b[0;34m.\u001b[0m\u001b[0mols\u001b[0m\u001b[0;34m(\u001b[0m\u001b[0mformula\u001b[0m\u001b[0;34m=\u001b[0m\u001b[0;34m\"estimate ~  Capacity + NumReg + Associated + C(Room)-1 + C(Module)-1 + C(DateTime)-1\"\u001b[0m\u001b[0;34m,\u001b[0m \u001b[0mdata\u001b[0m\u001b[0;34m=\u001b[0m\u001b[0mdf\u001b[0m\u001b[0;34m)\u001b[0m\u001b[0;34m.\u001b[0m\u001b[0mfit\u001b[0m\u001b[0;34m(\u001b[0m\u001b[0;34m)\u001b[0m\u001b[0;34m\u001b[0m\u001b[0m\n\u001b[0;32m----> 4\u001b[0;31m \u001b[0mplt\u001b[0m\u001b[0;34m.\u001b[0m\u001b[0mscatter\u001b[0m\u001b[0;34m(\u001b[0m\u001b[0mlm\u001b[0m\u001b[0;34m.\u001b[0m\u001b[0mpredict\u001b[0m\u001b[0;34m(\u001b[0m\u001b[0mdf\u001b[0m\u001b[0;34m)\u001b[0m\u001b[0;34m,\u001b[0m\u001b[0mlm\u001b[0m\u001b[0;34m.\u001b[0m\u001b[0mpredict\u001b[0m\u001b[0;34m(\u001b[0m\u001b[0mdf\u001b[0m\u001b[0;34m)\u001b[0m\u001b[0;34m-\u001b[0m \u001b[0mdf\u001b[0m\u001b[0;34m.\u001b[0m\u001b[0mEstimate\u001b[0m\u001b[0;34m)\u001b[0m\u001b[0;34m\u001b[0m\u001b[0m\n\u001b[0m\u001b[1;32m      5\u001b[0m \u001b[0mplt\u001b[0m\u001b[0;34m.\u001b[0m\u001b[0mhlines\u001b[0m\u001b[0;34m(\u001b[0m\u001b[0my\u001b[0m \u001b[0;34m=\u001b[0m \u001b[0;36m0\u001b[0m\u001b[0;34m,\u001b[0m \u001b[0mxmin\u001b[0m \u001b[0;34m=\u001b[0m \u001b[0;34m-\u001b[0m\u001b[0;36m50\u001b[0m\u001b[0;34m,\u001b[0m \u001b[0mxmax\u001b[0m\u001b[0;34m=\u001b[0m\u001b[0;36m250\u001b[0m\u001b[0;34m)\u001b[0m\u001b[0;34m\u001b[0m\u001b[0m\n",
      "\u001b[0;32m/Users/JoanMcCarthy/anaconda/envs/project/lib/python3.5/site-packages/pandas/core/generic.py\u001b[0m in \u001b[0;36m__getattr__\u001b[0;34m(self, name)\u001b[0m\n\u001b[1;32m   2670\u001b[0m             \u001b[0;32mif\u001b[0m \u001b[0mname\u001b[0m \u001b[0;32min\u001b[0m \u001b[0mself\u001b[0m\u001b[0;34m.\u001b[0m\u001b[0m_info_axis\u001b[0m\u001b[0;34m:\u001b[0m\u001b[0;34m\u001b[0m\u001b[0m\n\u001b[1;32m   2671\u001b[0m                 \u001b[0;32mreturn\u001b[0m \u001b[0mself\u001b[0m\u001b[0;34m[\u001b[0m\u001b[0mname\u001b[0m\u001b[0;34m]\u001b[0m\u001b[0;34m\u001b[0m\u001b[0m\n\u001b[0;32m-> 2672\u001b[0;31m             \u001b[0;32mreturn\u001b[0m \u001b[0mobject\u001b[0m\u001b[0;34m.\u001b[0m\u001b[0m__getattribute__\u001b[0m\u001b[0;34m(\u001b[0m\u001b[0mself\u001b[0m\u001b[0;34m,\u001b[0m \u001b[0mname\u001b[0m\u001b[0;34m)\u001b[0m\u001b[0;34m\u001b[0m\u001b[0m\n\u001b[0m\u001b[1;32m   2673\u001b[0m \u001b[0;34m\u001b[0m\u001b[0m\n\u001b[1;32m   2674\u001b[0m     \u001b[0;32mdef\u001b[0m \u001b[0m__setattr__\u001b[0m\u001b[0;34m(\u001b[0m\u001b[0mself\u001b[0m\u001b[0;34m,\u001b[0m \u001b[0mname\u001b[0m\u001b[0;34m,\u001b[0m \u001b[0mvalue\u001b[0m\u001b[0;34m)\u001b[0m\u001b[0;34m:\u001b[0m\u001b[0;34m\u001b[0m\u001b[0m\n",
      "\u001b[0;31mAttributeError\u001b[0m: 'DataFrame' object has no attribute 'Estimate'"
     ]
    }
   ],
   "source": [
    "import statsmodels.formula as sm\n",
    "# http://bigdataexaminer.com/uncategorized/linear-regression-in-python-using-stats-models/\n",
    "lm = sm.ols(formula=\"estimate ~  Capacity + NumReg + AverageHour + C(Room)-1 + C(Module)-1 + C(DateTime)-1\", data=df).fit()\n",
    "plt.scatter(lm.predict(df),lm.predict(df)- df.Estimate)\n",
    "plt.hlines(y = 0, xmin = -50, xmax=250)"
   ]
  },
  {
   "cell_type": "code",
   "execution_count": null,
   "metadata": {
    "collapsed": true
   },
   "outputs": [],
   "source": [
    "# http://statsmodels.sourceforge.net/devel/examples/notebooks/generated/regression_diagnostics.html\n",
    "# from statsmodels.graphics.regressionplots import plot_leverage_resid2\n",
    "# fig, ax = plt.subplots(figsize=(8,6))\n",
    "# fig = plot_leverage_resid2(results, ax = ax)"
   ]
  },
  {
   "cell_type": "code",
   "execution_count": null,
   "metadata": {
    "collapsed": true
   },
   "outputs": [],
   "source": [
    "References\n",
    "[1]James, Gareth, et al. An introduction to statistical learning. Vol. 6. New York: springer, 2013.\n",
    "[2] Rubin, Allen. Statistics for evidence-based practice and evaluation. Cengage Learning, 2012.\n",
    "[3] Shahbaba, Babak. Biostatistics with R: An Introduction to Statistics Through Biological Data. New York: Springer, 2012.\n",
    "\n",
    "\n",
    "\n"
   ]
  }
 ],
 "metadata": {
  "kernelspec": {
   "display_name": "Python 3",
   "language": "python",
   "name": "python3"
  },
  "language_info": {
   "codemirror_mode": {
    "name": "ipython",
    "version": 3
   },
   "file_extension": ".py",
   "mimetype": "text/x-python",
   "name": "python",
   "nbconvert_exporter": "python",
   "pygments_lexer": "ipython3",
   "version": "3.5.2"
  }
 },
 "nbformat": 4,
 "nbformat_minor": 0
}
